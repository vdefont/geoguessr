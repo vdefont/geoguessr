{
 "cells": [
  {
   "cell_type": "code",
   "execution_count": 91,
   "id": "d2df58f0",
   "metadata": {},
   "outputs": [
    {
     "name": "stdout",
     "output_type": "stream",
     "text": [
      "Collecting package metadata (current_repodata.json): done\n",
      "Solving environment: failed with initial frozen solve. Retrying with flexible solve.\n",
      "Collecting package metadata (repodata.json): done\n",
      "Solving environment: failed with initial frozen solve. Retrying with flexible solve.\n",
      "\n",
      "PackagesNotFoundError: The following packages are not available from current channels:\n",
      "\n",
      "  - fastbook\n",
      "\n",
      "Current channels:\n",
      "\n",
      "  - https://repo.anaconda.com/pkgs/main/linux-64\n",
      "  - https://repo.anaconda.com/pkgs/main/noarch\n",
      "  - https://repo.anaconda.com/pkgs/r/linux-64\n",
      "  - https://repo.anaconda.com/pkgs/r/noarch\n",
      "\n",
      "To search for alternate channels that may provide the conda package you're\n",
      "looking for, navigate to\n",
      "\n",
      "    https://anaconda.org\n",
      "\n",
      "and use the search bar at the top of the page.\n",
      "\n",
      "\n"
     ]
    }
   ],
   "source": [
    "!conda install fastbook"
   ]
  },
  {
   "cell_type": "code",
   "execution_count": 92,
   "id": "733b75b1",
   "metadata": {},
   "outputs": [],
   "source": [
    "!pip install -Uqq fastbook\n",
    "import fastbook\n",
    "from fastai.vision.all import *\n",
    "from fastai.text.all import *\n",
    "import matplotlib.pyplot as plt\n",
    "from collections import defaultdict\n",
    "from typing import List, Dict, Mapping, Iterable, Optional\n",
    "import torchvision.transforms as T\n",
    "import pickle "
   ]
  },
  {
   "cell_type": "code",
   "execution_count": 93,
   "id": "8b7391cb",
   "metadata": {},
   "outputs": [],
   "source": [
    "## DATA ##"
   ]
  },
  {
   "cell_type": "code",
   "execution_count": 94,
   "id": "66e0b301",
   "metadata": {},
   "outputs": [],
   "source": [
    "import zipfile\n",
    "def extract_data(zipfilename):\n",
    "    with zipfile.ZipFile(zipfilename, 'r') as zip_ref:\n",
    "        zip_ref.extractall(\".\")\n",
    "# extract_data(\"50States40Test.zip\")\n",
    "# extract_data(\"50StatesAll.zip\")"
   ]
  },
  {
   "cell_type": "code",
   "execution_count": 95,
   "id": "d949aa02",
   "metadata": {},
   "outputs": [],
   "source": [
    "root_dir = Path('.')"
   ]
  },
  {
   "cell_type": "code",
   "execution_count": 96,
   "id": "fa3af71e",
   "metadata": {},
   "outputs": [],
   "source": [
    "def prefix(f):\n",
    "    f = str(f)\n",
    "    for dir in range(0, 360, 90):\n",
    "        f = f.rstrip(f\"_{dir}.jpg\")\n",
    "    return f"
   ]
  },
  {
   "cell_type": "code",
   "execution_count": 100,
   "id": "288aea01",
   "metadata": {},
   "outputs": [],
   "source": [
    "# im_path = root_dir/'50States40Test'\n",
    "im_path = root_dir/'50StatesAll'\n",
    "im_files = get_image_files(im_path)"
   ]
  },
  {
   "cell_type": "code",
   "execution_count": 101,
   "id": "a588a0a8",
   "metadata": {},
   "outputs": [],
   "source": [
    "TRAIN_FRAC = 0.9\n",
    "def splitter(*args, **kwargs):\n",
    "    random.seed(47)\n",
    "    train_prefs = set()\n",
    "    valid_prefs = set()\n",
    "    train_idx, valid_idx = [], []\n",
    "    for i, p in enumerate(im_files):\n",
    "        pref = prefix(p)\n",
    "        if pref in train_prefs: train_idx.append(i)\n",
    "        elif pref in valid_prefs: valid_idx.append(i)\n",
    "        else:\n",
    "            if random.random() < TRAIN_FRAC:\n",
    "                train_prefs.add(pref)\n",
    "                train_idx.append(i)\n",
    "            else:\n",
    "                valid_prefs.add(pref)\n",
    "                valid_idx.append(i)\n",
    "    return train_idx, valid_idx"
   ]
  },
  {
   "cell_type": "code",
   "execution_count": 102,
   "id": "d6d55493",
   "metadata": {},
   "outputs": [
    {
     "name": "stdout",
     "output_type": "stream",
     "text": [
      "449109 50918\n"
     ]
    },
    {
     "data": {
      "text/html": [
       "<div>\n",
       "<style scoped>\n",
       "    .dataframe tbody tr th:only-of-type {\n",
       "        vertical-align: middle;\n",
       "    }\n",
       "\n",
       "    .dataframe tbody tr th {\n",
       "        vertical-align: top;\n",
       "    }\n",
       "\n",
       "    .dataframe thead th {\n",
       "        text-align: right;\n",
       "    }\n",
       "</style>\n",
       "<table border=\"1\" class=\"dataframe\">\n",
       "  <thead>\n",
       "    <tr style=\"text-align: right;\">\n",
       "      <th></th>\n",
       "      <th></th>\n",
       "      <th>path</th>\n",
       "    </tr>\n",
       "    <tr>\n",
       "      <th>state</th>\n",
       "      <th>is_train</th>\n",
       "      <th></th>\n",
       "    </tr>\n",
       "  </thead>\n",
       "  <tbody>\n",
       "    <tr>\n",
       "      <th rowspan=\"2\" valign=\"top\">Alabama</th>\n",
       "      <th>False</th>\n",
       "      <td>993</td>\n",
       "    </tr>\n",
       "    <tr>\n",
       "      <th>True</th>\n",
       "      <td>9007</td>\n",
       "    </tr>\n",
       "    <tr>\n",
       "      <th rowspan=\"2\" valign=\"top\">Alaska</th>\n",
       "      <th>False</th>\n",
       "      <td>1063</td>\n",
       "    </tr>\n",
       "    <tr>\n",
       "      <th>True</th>\n",
       "      <td>8939</td>\n",
       "    </tr>\n",
       "    <tr>\n",
       "      <th rowspan=\"2\" valign=\"top\">Arizona</th>\n",
       "      <th>False</th>\n",
       "      <td>978</td>\n",
       "    </tr>\n",
       "    <tr>\n",
       "      <th>True</th>\n",
       "      <td>9022</td>\n",
       "    </tr>\n",
       "    <tr>\n",
       "      <th rowspan=\"2\" valign=\"top\">Arkansas</th>\n",
       "      <th>False</th>\n",
       "      <td>975</td>\n",
       "    </tr>\n",
       "    <tr>\n",
       "      <th>True</th>\n",
       "      <td>9027</td>\n",
       "    </tr>\n",
       "    <tr>\n",
       "      <th rowspan=\"2\" valign=\"top\">California</th>\n",
       "      <th>False</th>\n",
       "      <td>1074</td>\n",
       "    </tr>\n",
       "    <tr>\n",
       "      <th>True</th>\n",
       "      <td>8926</td>\n",
       "    </tr>\n",
       "    <tr>\n",
       "      <th rowspan=\"2\" valign=\"top\">Colorado</th>\n",
       "      <th>False</th>\n",
       "      <td>873</td>\n",
       "    </tr>\n",
       "    <tr>\n",
       "      <th>True</th>\n",
       "      <td>9129</td>\n",
       "    </tr>\n",
       "    <tr>\n",
       "      <th rowspan=\"2\" valign=\"top\">Connecticut</th>\n",
       "      <th>False</th>\n",
       "      <td>1046</td>\n",
       "    </tr>\n",
       "    <tr>\n",
       "      <th>True</th>\n",
       "      <td>8954</td>\n",
       "    </tr>\n",
       "    <tr>\n",
       "      <th rowspan=\"2\" valign=\"top\">Delaware</th>\n",
       "      <th>False</th>\n",
       "      <td>1028</td>\n",
       "    </tr>\n",
       "    <tr>\n",
       "      <th>True</th>\n",
       "      <td>8972</td>\n",
       "    </tr>\n",
       "    <tr>\n",
       "      <th rowspan=\"2\" valign=\"top\">Florida</th>\n",
       "      <th>False</th>\n",
       "      <td>1065</td>\n",
       "    </tr>\n",
       "    <tr>\n",
       "      <th>True</th>\n",
       "      <td>8938</td>\n",
       "    </tr>\n",
       "    <tr>\n",
       "      <th rowspan=\"2\" valign=\"top\">Georgia</th>\n",
       "      <th>False</th>\n",
       "      <td>919</td>\n",
       "    </tr>\n",
       "    <tr>\n",
       "      <th>True</th>\n",
       "      <td>9081</td>\n",
       "    </tr>\n",
       "    <tr>\n",
       "      <th rowspan=\"2\" valign=\"top\">Hawaii</th>\n",
       "      <th>False</th>\n",
       "      <td>1112</td>\n",
       "    </tr>\n",
       "    <tr>\n",
       "      <th>True</th>\n",
       "      <td>8891</td>\n",
       "    </tr>\n",
       "    <tr>\n",
       "      <th rowspan=\"2\" valign=\"top\">Idaho</th>\n",
       "      <th>False</th>\n",
       "      <td>1083</td>\n",
       "    </tr>\n",
       "    <tr>\n",
       "      <th>True</th>\n",
       "      <td>8918</td>\n",
       "    </tr>\n",
       "    <tr>\n",
       "      <th rowspan=\"2\" valign=\"top\">Illinois</th>\n",
       "      <th>False</th>\n",
       "      <td>1103</td>\n",
       "    </tr>\n",
       "    <tr>\n",
       "      <th>True</th>\n",
       "      <td>8897</td>\n",
       "    </tr>\n",
       "    <tr>\n",
       "      <th rowspan=\"2\" valign=\"top\">Indiana</th>\n",
       "      <th>False</th>\n",
       "      <td>1067</td>\n",
       "    </tr>\n",
       "    <tr>\n",
       "      <th>True</th>\n",
       "      <td>8933</td>\n",
       "    </tr>\n",
       "    <tr>\n",
       "      <th rowspan=\"2\" valign=\"top\">Iowa</th>\n",
       "      <th>False</th>\n",
       "      <td>1044</td>\n",
       "    </tr>\n",
       "    <tr>\n",
       "      <th>True</th>\n",
       "      <td>8956</td>\n",
       "    </tr>\n",
       "    <tr>\n",
       "      <th rowspan=\"2\" valign=\"top\">Kansas</th>\n",
       "      <th>False</th>\n",
       "      <td>1091</td>\n",
       "    </tr>\n",
       "    <tr>\n",
       "      <th>True</th>\n",
       "      <td>8909</td>\n",
       "    </tr>\n",
       "    <tr>\n",
       "      <th rowspan=\"2\" valign=\"top\">Kentucky</th>\n",
       "      <th>False</th>\n",
       "      <td>963</td>\n",
       "    </tr>\n",
       "    <tr>\n",
       "      <th>True</th>\n",
       "      <td>9037</td>\n",
       "    </tr>\n",
       "    <tr>\n",
       "      <th rowspan=\"2\" valign=\"top\">Louisiana</th>\n",
       "      <th>False</th>\n",
       "      <td>1097</td>\n",
       "    </tr>\n",
       "    <tr>\n",
       "      <th>True</th>\n",
       "      <td>8903</td>\n",
       "    </tr>\n",
       "    <tr>\n",
       "      <th rowspan=\"2\" valign=\"top\">Maine</th>\n",
       "      <th>False</th>\n",
       "      <td>1050</td>\n",
       "    </tr>\n",
       "    <tr>\n",
       "      <th>True</th>\n",
       "      <td>8950</td>\n",
       "    </tr>\n",
       "    <tr>\n",
       "      <th rowspan=\"2\" valign=\"top\">Maryland</th>\n",
       "      <th>False</th>\n",
       "      <td>973</td>\n",
       "    </tr>\n",
       "    <tr>\n",
       "      <th>True</th>\n",
       "      <td>9027</td>\n",
       "    </tr>\n",
       "    <tr>\n",
       "      <th rowspan=\"2\" valign=\"top\">Massachusetts</th>\n",
       "      <th>False</th>\n",
       "      <td>936</td>\n",
       "    </tr>\n",
       "    <tr>\n",
       "      <th>True</th>\n",
       "      <td>9064</td>\n",
       "    </tr>\n",
       "    <tr>\n",
       "      <th rowspan=\"2\" valign=\"top\">Michigan</th>\n",
       "      <th>False</th>\n",
       "      <td>1128</td>\n",
       "    </tr>\n",
       "    <tr>\n",
       "      <th>True</th>\n",
       "      <td>8872</td>\n",
       "    </tr>\n",
       "    <tr>\n",
       "      <th rowspan=\"2\" valign=\"top\">Minnesota</th>\n",
       "      <th>False</th>\n",
       "      <td>1156</td>\n",
       "    </tr>\n",
       "    <tr>\n",
       "      <th>True</th>\n",
       "      <td>8844</td>\n",
       "    </tr>\n",
       "    <tr>\n",
       "      <th rowspan=\"2\" valign=\"top\">Mississippi</th>\n",
       "      <th>False</th>\n",
       "      <td>1045</td>\n",
       "    </tr>\n",
       "    <tr>\n",
       "      <th>True</th>\n",
       "      <td>8958</td>\n",
       "    </tr>\n",
       "    <tr>\n",
       "      <th rowspan=\"2\" valign=\"top\">Missouri</th>\n",
       "      <th>False</th>\n",
       "      <td>1029</td>\n",
       "    </tr>\n",
       "    <tr>\n",
       "      <th>True</th>\n",
       "      <td>8971</td>\n",
       "    </tr>\n",
       "  </tbody>\n",
       "</table>\n",
       "</div>"
      ],
      "text/plain": [
       "                        path\n",
       "state         is_train      \n",
       "Alabama       False      993\n",
       "              True      9007\n",
       "Alaska        False     1063\n",
       "              True      8939\n",
       "Arizona       False      978\n",
       "              True      9022\n",
       "Arkansas      False      975\n",
       "              True      9027\n",
       "California    False     1074\n",
       "              True      8926\n",
       "Colorado      False      873\n",
       "              True      9129\n",
       "Connecticut   False     1046\n",
       "              True      8954\n",
       "Delaware      False     1028\n",
       "              True      8972\n",
       "Florida       False     1065\n",
       "              True      8938\n",
       "Georgia       False      919\n",
       "              True      9081\n",
       "Hawaii        False     1112\n",
       "              True      8891\n",
       "Idaho         False     1083\n",
       "              True      8918\n",
       "Illinois      False     1103\n",
       "              True      8897\n",
       "Indiana       False     1067\n",
       "              True      8933\n",
       "Iowa          False     1044\n",
       "              True      8956\n",
       "Kansas        False     1091\n",
       "              True      8909\n",
       "Kentucky      False      963\n",
       "              True      9037\n",
       "Louisiana     False     1097\n",
       "              True      8903\n",
       "Maine         False     1050\n",
       "              True      8950\n",
       "Maryland      False      973\n",
       "              True      9027\n",
       "Massachusetts False      936\n",
       "              True      9064\n",
       "Michigan      False     1128\n",
       "              True      8872\n",
       "Minnesota     False     1156\n",
       "              True      8844\n",
       "Mississippi   False     1045\n",
       "              True      8958\n",
       "Missouri      False     1029\n",
       "              True      8971"
      ]
     },
     "execution_count": 102,
     "metadata": {},
     "output_type": "execute_result"
    }
   ],
   "source": [
    "# Sanity check the splitter\n",
    "tri, vli = splitter()\n",
    "print(len(tri), len(vli))\n",
    "test = pd.DataFrame({'path': im_files})\n",
    "test['is_train'] = test.index.isin(tri)\n",
    "test['state'] = [p.parent.name for p in im_files]\n",
    "test.groupby(['state', 'is_train']).count().iloc[:50]"
   ]
  },
  {
   "cell_type": "code",
   "execution_count": 103,
   "id": "f343f534",
   "metadata": {},
   "outputs": [],
   "source": [
    "def get_block_dls(batch_size):\n",
    "    normalize_tfm = Normalize.from_stats(*imagenet_stats)\n",
    "    block = DataBlock(\n",
    "        get_items=get_image_files,\n",
    "        get_y=parent_label,\n",
    "        blocks=(ImageBlock, CategoryBlock),\n",
    "        splitter=splitter,\n",
    "        batch_tfms=[*aug_transforms(), normalize_tfm],\n",
    "    )\n",
    "    dls = block.dataloaders(im_path, batch_size=batch_size)\n",
    "    return block, dls"
   ]
  },
  {
   "cell_type": "code",
   "execution_count": 104,
   "id": "f0f05408",
   "metadata": {},
   "outputs": [],
   "source": [
    "# MODEL #"
   ]
  },
  {
   "cell_type": "code",
   "execution_count": 105,
   "id": "7a792387",
   "metadata": {},
   "outputs": [],
   "source": [
    "def get_model(arch=resnet101, dropout_amt=0.):\n",
    "    return nn.Sequential(\n",
    "        create_body(resnet101, cut=-2),\n",
    "        create_head(2048, 50, lin_ftrs=[512], ps=dropout_amt),\n",
    "    )"
   ]
  },
  {
   "cell_type": "code",
   "execution_count": 106,
   "id": "a2393090",
   "metadata": {},
   "outputs": [],
   "source": [
    "# TRAIN #"
   ]
  },
  {
   "cell_type": "code",
   "execution_count": 107,
   "id": "ba24b653",
   "metadata": {},
   "outputs": [],
   "source": [
    "block, dls = get_block_dls(batch_size=64)"
   ]
  },
  {
   "cell_type": "code",
   "execution_count": 108,
   "id": "55b51c86",
   "metadata": {},
   "outputs": [],
   "source": [
    "model = get_model()"
   ]
  },
  {
   "cell_type": "code",
   "execution_count": 111,
   "id": "50790e06",
   "metadata": {},
   "outputs": [
    {
     "data": {
      "text/html": [],
      "text/plain": [
       "<IPython.core.display.HTML object>"
      ]
     },
     "metadata": {},
     "output_type": "display_data"
    },
    {
     "data": {
      "text/plain": [
       "SuggestedLRs(lr_min=0.00017782794311642646, lr_steep=0.0003548133827280253)"
      ]
     },
     "execution_count": 111,
     "metadata": {},
     "output_type": "execute_result"
    },
    {
     "data": {
      "image/png": "[encoded data removed]",
      "text/plain": [
       "<Figure size 432x288 with 1 Axes>"
      ]
     },
     "metadata": {
      "needs_background": "light"
     },
     "output_type": "display_data"
    }
   ],
   "source": [
    "learn = Learner(\n",
    "    dls=dls, \n",
    "    model=model, \n",
    "    loss_func=CrossEntropyLossFlat(), \n",
    "    metrics=accuracy,\n",
    ")\n",
    "learn.freeze()\n",
    "learn.lr_find(end_lr=1e-2)"
   ]
  },
  {
   "cell_type": "code",
   "execution_count": null,
   "id": "c77d1bcb",
   "metadata": {},
   "outputs": [],
   "source": [
    "learn.fit_one_cycle(10, )"
   ]
  },
  {
   "cell_type": "code",
   "execution_count": null,
   "id": "b5585907",
   "metadata": {},
   "outputs": [],
   "source": [
    "torch.save(learn.model.state_dict, root_dir/\"state_dict_us_resnet101_frozen_5_30\")"
   ]
  },
  {
   "cell_type": "code",
   "execution_count": null,
   "id": "e8f69c4c",
   "metadata": {},
   "outputs": [],
   "source": [
    "# Are you doing this overnight? If so:\n",
    "# - Use the normal LR\n",
    "# - fine-tune for 5 epochs no questions asked"
   ]
  },
  {
   "cell_type": "code",
   "execution_count": null,
   "id": "3b3508f1",
   "metadata": {},
   "outputs": [],
   "source": [
    "learn.unfreeze()\n",
    "learn.lr_find() # If you're there"
   ]
  },
  {
   "cell_type": "code",
   "execution_count": null,
   "id": "8086af75",
   "metadata": {},
   "outputs": [],
   "source": [
    "learn.fit_one_cycle(5, slice(1e-6, 1e-4)) # Use better lr if found"
   ]
  },
  {
   "cell_type": "code",
   "execution_count": null,
   "id": "b8bf7f77",
   "metadata": {},
   "outputs": [],
   "source": [
    "torch.save(learn.model.state_dict, root_dir/\"state_dict_us_resnet101_unfrozen_5_30\")"
   ]
  }
 ],
 "metadata": {
  "kernelspec": {
   "display_name": "Python 3",
   "language": "python",
   "name": "python3"
  },
  "language_info": {
   "codemirror_mode": {
    "name": "ipython",
    "version": 3
   },
   "file_extension": ".py",
   "mimetype": "text/x-python",
   "name": "python",
   "nbconvert_exporter": "python",
   "pygments_lexer": "ipython3",
   "version": "3.7.9"
  }
 },
 "nbformat": 4,
 "nbformat_minor": 5
}
