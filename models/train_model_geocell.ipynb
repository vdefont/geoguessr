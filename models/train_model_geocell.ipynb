{
 "cells": [
  {
   "cell_type": "code",
   "execution_count": 2,
   "id": "f5ad97cc",
   "metadata": {},
   "outputs": [
    {
     "name": "stdout",
     "output_type": "stream",
     "text": [
      "Collecting package metadata (current_repodata.json): done\n",
      "Solving environment: failed with initial frozen solve. Retrying with flexible solve.\n",
      "Collecting package metadata (repodata.json): done\n",
      "Solving environment: failed with initial frozen solve. Retrying with flexible solve.\n",
      "\n",
      "PackagesNotFoundError: The following packages are not available from current channels:\n",
      "\n",
      "  - fastbook\n",
      "\n",
      "Current channels:\n",
      "\n",
      "  - https://repo.anaconda.com/pkgs/main/linux-64\n",
      "  - https://repo.anaconda.com/pkgs/main/noarch\n",
      "  - https://repo.anaconda.com/pkgs/r/linux-64\n",
      "  - https://repo.anaconda.com/pkgs/r/noarch\n",
      "\n",
      "To search for alternate channels that may provide the conda package you're\n",
      "looking for, navigate to\n",
      "\n",
      "    https://anaconda.org\n",
      "\n",
      "and use the search bar at the top of the page.\n",
      "\n",
      "\n"
     ]
    }
   ],
   "source": [
    "!conda install fastbook"
   ]
  },
  {
   "cell_type": "code",
   "execution_count": 1,
   "id": "2dae980f",
   "metadata": {},
   "outputs": [],
   "source": [
    "!pip install -Uqq fastbook\n",
    "import fastbook\n",
    "from fastai.vision.all import *\n",
    "from fastai.text.all import *\n",
    "import matplotlib.pyplot as plt\n",
    "from collections import defaultdict\n",
    "from typing import List, Dict, Mapping, Iterable, Optional\n",
    "import torchvision.transforms as T\n",
    "import pickle "
   ]
  },
  {
   "cell_type": "code",
   "execution_count": 5,
   "id": "7a93cbda",
   "metadata": {},
   "outputs": [],
   "source": [
    "## DATA ##"
   ]
  },
  {
   "cell_type": "code",
   "execution_count": 31,
   "id": "a9910542",
   "metadata": {},
   "outputs": [],
   "source": [
    "root_dir = Path('.')"
   ]
  },
  {
   "cell_type": "code",
   "execution_count": 32,
   "id": "3c033522",
   "metadata": {},
   "outputs": [],
   "source": [
    "def get_image_files_train_valid(*args, **kwargs):\n",
    "  return get_image_files(root_dir/'data_full'/'train') + get_image_files(root_dir/'data_full'/'valid')"
   ]
  },
  {
   "cell_type": "code",
   "execution_count": 33,
   "id": "5785b670",
   "metadata": {},
   "outputs": [],
   "source": [
    "metadata = pd.read_csv(root_dir/'data.csv', index_col=0)"
   ]
  },
  {
   "cell_type": "code",
   "execution_count": 34,
   "id": "c6f00484",
   "metadata": {},
   "outputs": [],
   "source": [
    "def get_y(path): # Gets geocell!\n",
    "  p = str(path).rstrip(\".jpg\")\n",
    "  if p.endswith(\" (1)\"): p = p[:-4]\n",
    "  idx = int(re.search(r'(\\d*)$', p).group(1))\n",
    "  return metadata.geocell[idx]"
   ]
  },
  {
   "cell_type": "code",
   "execution_count": 35,
   "id": "2adf7d08",
   "metadata": {},
   "outputs": [],
   "source": [
    "def splitter(paths, small_set=False):\n",
    "  train_idx = []\n",
    "  valid_idx = []\n",
    "  for i, p in enumerate(paths):\n",
    "    # if small_set and get_y(p) not in small_set_labels:\n",
    "    #   continue\n",
    "    if p.parent.name == 'valid': valid_idx.append(i)\n",
    "    else: train_idx.append(i)\n",
    "  return train_idx, valid_idx"
   ]
  },
  {
   "cell_type": "code",
   "execution_count": 36,
   "id": "b0d81520",
   "metadata": {},
   "outputs": [],
   "source": [
    "def get_dls(bs, size, min_scale):\n",
    "  item_tfms = [] if size == 224 else [Resize(448)]\n",
    "  normalize_tfm = Normalize.from_stats(*imagenet_stats)\n",
    "  block = DataBlock(\n",
    "      get_items=get_image_files_train_valid,\n",
    "      get_y=get_y,\n",
    "      blocks=(ImageBlock, CategoryBlock),\n",
    "      splitter=splitter,\n",
    "      item_tfms=item_tfms,\n",
    "      batch_tfms=[\n",
    "        *aug_transforms(min_scale=min_scale),\n",
    "        normalize_tfm,\n",
    "      ]\n",
    "  )\n",
    "  im_path = Path()\n",
    "  return block.dataloaders(im_path, bs=bs)"
   ]
  },
  {
   "cell_type": "code",
   "execution_count": 37,
   "id": "a160b89a",
   "metadata": {},
   "outputs": [],
   "source": [
    "## MODEL ##"
   ]
  },
  {
   "cell_type": "code",
   "execution_count": 38,
   "id": "0648a36e",
   "metadata": {},
   "outputs": [],
   "source": [
    "def get_model(dls, arch, dropout_amt):\n",
    "  arch_to_feats = {resnet34: 512, resnet50: 2048, resnet101: 2048, resnet152: 2048}\n",
    "  return nn.Sequential(\n",
    "      create_body(arch, cut=-2),\n",
    "      create_head(arch_to_feats[arch], len(dls.vocab), lin_ftrs=[512], ps=dropout_amt),\n",
    "  )"
   ]
  },
  {
   "cell_type": "code",
   "execution_count": 39,
   "id": "d034918b",
   "metadata": {},
   "outputs": [],
   "source": [
    "## TRAIN ## "
   ]
  },
  {
   "cell_type": "code",
   "execution_count": 40,
   "id": "e7c0b134",
   "metadata": {},
   "outputs": [],
   "source": [
    "dls = get_dls(bs=32, size=448, min_scale=1.0)"
   ]
  },
  {
   "cell_type": "code",
   "execution_count": 41,
   "id": "e40bb7ef",
   "metadata": {},
   "outputs": [
    {
     "data": {
      "text/plain": [
       "(275,\n",
       " [0, 3, 4, 5, 6, 7, 8, 10, 11, 12, 13, 14, 15, 16, 17, 18, 19, 20, 22, 25, 26, 27, 28, 29, 30, 31, 33, 34, 35, 36, 37, 38, 39, 40, 42, 43, 44, 45, 46, 47, 48, 49, 50, 51, 52, 53, 54, 55, 56, 57, 58, 59, 60, 61, 62, 63, 64, 65, 66, 67, 68, 69, 70, 71, 72, 73, 74, 75, 76, 78, 79, 80, 81, 82, 83, 84, 85, 86, 87, 88, 89, 90, 91, 92, 93, 94, 95, 96, 97, 98, 99, 100, 101, 102, 103, 104, 105, 106, 107, 108, 109, 110, 111, 112, 113, 114, 115, 116, 117, 118, 119, 120, 121, 122, 123, 124, 125, 126, 127, 128, 129, 130, 131, 132, 133, 134, 135, 136, 137, 138, 139, 140, 141, 142, 143, 144, 145, 146, 147, 148, 149, 150, 151, 152, 153, 154, 155, 156, 157, 158, 159, 160, 162, 163, 164, 166, 167, 169, 170, 171, 172, 173, 174, 175, 176, 177, 178, 179, 180, 181, 182, 183, 184, 185, 186, 187, 188, 189, 190, 191, 192, 193, 194, 195, 196, 197, 198, 199, 200, 201, 202, 203, 204, 205, 206, 207, 208, 209, 210, 211, 212, 213, 214, 215, 216, 217, 218, 219, 220, 221, 222, 223, 224, 225, 227, 229, 230, 231, 232, 233, 234, 235, 236, 237, 238, 239, 240, 241, 242, 243, 244, 245, 246, 247, 248, 249, 250, 251, 252, 253, 254, 255, 256, 257, 258, 259, 260, 261, 262, 263, 264, 265, 266, 267, 268, 269, 270, 271, 272, 273, 274, 275, 276, 277, 278, 279, 280, 281, 282, 283, 284, 285, 286, 287, 288])"
      ]
     },
     "execution_count": 41,
     "metadata": {},
     "output_type": "execute_result"
    }
   ],
   "source": [
    "len(dls.vocab), dls.vocab"
   ]
  },
  {
   "cell_type": "code",
   "execution_count": 2,
   "id": "29703ca6",
   "metadata": {},
   "outputs": [
    {
     "ename": "NameError",
     "evalue": "name 'dls' is not defined",
     "output_type": "error",
     "traceback": [
      "\u001b[0;31m---------------------------------------------------------------------------\u001b[0m",
      "\u001b[0;31mNameError\u001b[0m                                 Traceback (most recent call last)",
      "\u001b[0;32m<ipython-input-2-3338558e363a>\u001b[0m in \u001b[0;36m<module>\u001b[0;34m\u001b[0m\n\u001b[0;32m----> 1\u001b[0;31m \u001b[0mmodel\u001b[0m \u001b[0;34m=\u001b[0m \u001b[0mget_model\u001b[0m\u001b[0;34m(\u001b[0m\u001b[0mdls\u001b[0m\u001b[0;34m,\u001b[0m \u001b[0mresnet101\u001b[0m\u001b[0;34m,\u001b[0m \u001b[0mdropout_amt\u001b[0m\u001b[0;34m=\u001b[0m\u001b[0;36m0.\u001b[0m\u001b[0;34m)\u001b[0m\u001b[0;34m\u001b[0m\u001b[0;34m\u001b[0m\u001b[0m\n\u001b[0m",
      "\u001b[0;31mNameError\u001b[0m: name 'dls' is not defined"
     ]
    }
   ],
   "source": [
    "model = get_model(dls, resnet101, dropout_amt=0.)"
   ]
  },
  {
   "cell_type": "code",
   "execution_count": 45,
   "id": "345aa3c2",
   "metadata": {},
   "outputs": [
    {
     "data": {
      "text/html": [],
      "text/plain": [
       "<IPython.core.display.HTML object>"
      ]
     },
     "metadata": {},
     "output_type": "display_data"
    },
    {
     "data": {
      "text/plain": [
       "SuggestedLRs(lr_min=0.0001258925418369472, lr_steep=0.00017782794020604342)"
      ]
     },
     "execution_count": 45,
     "metadata": {},
     "output_type": "execute_result"
    },
    {
     "data": {
      "image/png": "[encoded data removed]",
      "text/plain": [
       "<Figure size 432x288 with 1 Axes>"
      ]
     },
     "metadata": {
      "needs_background": "light"
     },
     "output_type": "display_data"
    }
   ],
   "source": [
    "learn = Learner(dls, model, CrossEntropyLossFlat(), metrics=accuracy)\n",
    "learn.freeze()\n",
    "learn.lr_find(end_lr=1e-2)"
   ]
  },
  {
   "cell_type": "code",
   "execution_count": 46,
   "id": "f7347d80",
   "metadata": {},
   "outputs": [
    {
     "data": {
      "text/html": [
       "<table border=\"1\" class=\"dataframe\">\n",
       "  <thead>\n",
       "    <tr style=\"text-align: left;\">\n",
       "      <th>epoch</th>\n",
       "      <th>train_loss</th>\n",
       "      <th>valid_loss</th>\n",
       "      <th>accuracy</th>\n",
       "      <th>time</th>\n",
       "    </tr>\n",
       "  </thead>\n",
       "  <tbody>\n",
       "    <tr>\n",
       "      <td>0</td>\n",
       "      <td>4.405766</td>\n",
       "      <td>4.343783</td>\n",
       "      <td>0.096631</td>\n",
       "      <td>11:21</td>\n",
       "    </tr>\n",
       "    <tr>\n",
       "      <td>1</td>\n",
       "      <td>3.916919</td>\n",
       "      <td>3.972760</td>\n",
       "      <td>0.128979</td>\n",
       "      <td>11:20</td>\n",
       "    </tr>\n",
       "    <tr>\n",
       "      <td>2</td>\n",
       "      <td>3.489909</td>\n",
       "      <td>3.566770</td>\n",
       "      <td>0.168229</td>\n",
       "      <td>11:15</td>\n",
       "    </tr>\n",
       "    <tr>\n",
       "      <td>3</td>\n",
       "      <td>3.248825</td>\n",
       "      <td>3.311418</td>\n",
       "      <td>0.201401</td>\n",
       "      <td>11:07</td>\n",
       "    </tr>\n",
       "    <tr>\n",
       "      <td>4</td>\n",
       "      <td>2.934359</td>\n",
       "      <td>3.152140</td>\n",
       "      <td>0.221902</td>\n",
       "      <td>11:17</td>\n",
       "    </tr>\n",
       "    <tr>\n",
       "      <td>5</td>\n",
       "      <td>2.637678</td>\n",
       "      <td>2.988223</td>\n",
       "      <td>0.248377</td>\n",
       "      <td>11:08</td>\n",
       "    </tr>\n",
       "    <tr>\n",
       "      <td>6</td>\n",
       "      <td>2.265900</td>\n",
       "      <td>2.859009</td>\n",
       "      <td>0.267642</td>\n",
       "      <td>11:10</td>\n",
       "    </tr>\n",
       "    <tr>\n",
       "      <td>7</td>\n",
       "      <td>1.956514</td>\n",
       "      <td>2.793041</td>\n",
       "      <td>0.284125</td>\n",
       "      <td>11:16</td>\n",
       "    </tr>\n",
       "    <tr>\n",
       "      <td>8</td>\n",
       "      <td>1.681520</td>\n",
       "      <td>2.786298</td>\n",
       "      <td>0.282477</td>\n",
       "      <td>11:12</td>\n",
       "    </tr>\n",
       "    <tr>\n",
       "      <td>9</td>\n",
       "      <td>1.587657</td>\n",
       "      <td>2.787435</td>\n",
       "      <td>0.280828</td>\n",
       "      <td>11:11</td>\n",
       "    </tr>\n",
       "  </tbody>\n",
       "</table>"
      ],
      "text/plain": [
       "<IPython.core.display.HTML object>"
      ]
     },
     "metadata": {},
     "output_type": "display_data"
    }
   ],
   "source": [
    "learn.fit_one_cycle(10, 1.5e-4)"
   ]
  },
  {
   "cell_type": "code",
   "execution_count": 47,
   "id": "aff3eee4",
   "metadata": {},
   "outputs": [],
   "source": [
    "torch.save(learn.model.state_dict, root_dir/\"state_dict_geocell_resnet101_448_frozen_5_30\")"
   ]
  }
 ],
 "metadata": {
  "kernelspec": {
   "display_name": "Python 3",
   "language": "python",
   "name": "python3"
  },
  "language_info": {
   "codemirror_mode": {
    "name": "ipython",
    "version": 3
   },
   "file_extension": ".py",
   "mimetype": "text/x-python",
   "name": "python",
   "nbconvert_exporter": "python",
   "pygments_lexer": "ipython3",
   "version": "3.7.9"
  }
 },
 "nbformat": 4,
 "nbformat_minor": 5
}
