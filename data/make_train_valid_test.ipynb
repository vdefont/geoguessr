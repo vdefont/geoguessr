{
 "cells": [
  {
   "cell_type": "code",
   "execution_count": 15,
   "id": "instant-receiver",
   "metadata": {},
   "outputs": [],
   "source": [
    "import pandas as pd\n",
    "import numpy as np\n",
    "import shutil\n",
    "from pathlib import Path\n",
    "import re\n",
    "import random"
   ]
  },
  {
   "cell_type": "code",
   "execution_count": 81,
   "id": "varying-smile",
   "metadata": {},
   "outputs": [
    {
     "data": {
      "text/html": [
       "<div>\n",
       "<style scoped>\n",
       "    .dataframe tbody tr th:only-of-type {\n",
       "        vertical-align: middle;\n",
       "    }\n",
       "\n",
       "    .dataframe tbody tr th {\n",
       "        vertical-align: top;\n",
       "    }\n",
       "\n",
       "    .dataframe thead th {\n",
       "        text-align: right;\n",
       "    }\n",
       "</style>\n",
       "<table border=\"1\" class=\"dataframe\">\n",
       "  <thead>\n",
       "    <tr style=\"text-align: right;\">\n",
       "      <th></th>\n",
       "      <th>id</th>\n",
       "      <th>lat</th>\n",
       "      <th>lng</th>\n",
       "      <th>country</th>\n",
       "      <th>population</th>\n",
       "      <th>country_name</th>\n",
       "      <th>geocell</th>\n",
       "    </tr>\n",
       "  </thead>\n",
       "  <tbody>\n",
       "    <tr>\n",
       "      <th>0</th>\n",
       "      <td>ltbLypZTB0b54YldBhcrYQ</td>\n",
       "      <td>61.772846</td>\n",
       "      <td>-149.93478</td>\n",
       "      <td>us</td>\n",
       "      <td>0.101961</td>\n",
       "      <td>United States</td>\n",
       "      <td>10</td>\n",
       "    </tr>\n",
       "    <tr>\n",
       "      <th>1</th>\n",
       "      <td>4YLg9of3KX6wKna1hD-Bqw</td>\n",
       "      <td>42.829094</td>\n",
       "      <td>-71.78170</td>\n",
       "      <td>us</td>\n",
       "      <td>0.231373</td>\n",
       "      <td>United States</td>\n",
       "      <td>188</td>\n",
       "    </tr>\n",
       "    <tr>\n",
       "      <th>2</th>\n",
       "      <td>VmQWOJCj9lgSQnAbCgH_bA</td>\n",
       "      <td>36.138850</td>\n",
       "      <td>-95.99014</td>\n",
       "      <td>us</td>\n",
       "      <td>0.529412</td>\n",
       "      <td>United States</td>\n",
       "      <td>132</td>\n",
       "    </tr>\n",
       "    <tr>\n",
       "      <th>3</th>\n",
       "      <td>FEUW8CKZo3HdyW-O4SJSow</td>\n",
       "      <td>35.028843</td>\n",
       "      <td>-89.81706</td>\n",
       "      <td>us</td>\n",
       "      <td>0.603922</td>\n",
       "      <td>United States</td>\n",
       "      <td>133</td>\n",
       "    </tr>\n",
       "    <tr>\n",
       "      <th>4</th>\n",
       "      <td>jW-3dsHVWPvaxA7g-VNW5Q</td>\n",
       "      <td>27.803684</td>\n",
       "      <td>-82.69630</td>\n",
       "      <td>us</td>\n",
       "      <td>0.596078</td>\n",
       "      <td>United States</td>\n",
       "      <td>175</td>\n",
       "    </tr>\n",
       "  </tbody>\n",
       "</table>\n",
       "</div>"
      ],
      "text/plain": [
       "                       id        lat        lng country  population  \\\n",
       "0  ltbLypZTB0b54YldBhcrYQ  61.772846 -149.93478      us    0.101961   \n",
       "1  4YLg9of3KX6wKna1hD-Bqw  42.829094  -71.78170      us    0.231373   \n",
       "2  VmQWOJCj9lgSQnAbCgH_bA  36.138850  -95.99014      us    0.529412   \n",
       "3  FEUW8CKZo3HdyW-O4SJSow  35.028843  -89.81706      us    0.603922   \n",
       "4  jW-3dsHVWPvaxA7g-VNW5Q  27.803684  -82.69630      us    0.596078   \n",
       "\n",
       "    country_name  geocell  \n",
       "0  United States       10  \n",
       "1  United States      188  \n",
       "2  United States      132  \n",
       "3  United States      133  \n",
       "4  United States      175  "
      ]
     },
     "execution_count": 81,
     "metadata": {},
     "output_type": "execute_result"
    }
   ],
   "source": [
    "nums = sorted([int(re.search(r'(\\d*)\\.jpg', str(p)).group(1)) for p in Path('all').glob('**/*jpg')])\n",
    "data = pd.read_csv(\"data.csv\", index_col=0)\n",
    "data.head()"
   ]
  },
  {
   "cell_type": "code",
   "execution_count": 53,
   "id": "median-antique",
   "metadata": {},
   "outputs": [],
   "source": [
    "def cutsmall(dt):\n",
    "    country_counts = dt.country.value_counts().sort_values()\n",
    "    print(\"country_counts:\", country_counts[:5])\n",
    "    small_countries = country_counts[country_counts < 50].index.tolist()\n",
    "\n",
    "    geocell_counts = dt.geocell.value_counts().sort_values()\n",
    "    print(\"\\ngeocell_counts:\", geocell_counts[:5])\n",
    "    small_geocells = geocell_counts[geocell_counts < 50].index.tolist()\n",
    "\n",
    "    ret = dt[~ (dt.country.isin(small_countries) | dt.geocell.isin(small_geocells))]\n",
    "    print(f\"\\nCut from {len(dt)} to {len(ret)}\")\n",
    "    done = len(dt) == len(ret)\n",
    "    return ret, done"
   ]
  },
  {
   "cell_type": "code",
   "execution_count": 54,
   "id": "healthy-meditation",
   "metadata": {},
   "outputs": [],
   "source": [
    "def cut_rec():\n",
    "    curdata = data.iloc[nums]\n",
    "    done = False\n",
    "    while not done:\n",
    "        curdata, done = cutsmall(curdata)\n",
    "    return curdata"
   ]
  },
  {
   "cell_type": "code",
   "execution_count": 56,
   "id": "christian-orange",
   "metadata": {},
   "outputs": [
    {
     "name": "stdout",
     "output_type": "stream",
     "text": [
      "country_counts: cx    1\n",
      "py    1\n",
      "ml    1\n",
      "zw    1\n",
      "ge    1\n",
      "Name: country, dtype: int64\n",
      "\n",
      "geocell_counts: 2      5\n",
      "24     7\n",
      "1      9\n",
      "9     11\n",
      "41    12\n",
      "Name: geocell, dtype: int64\n",
      "\n",
      "Cut from 98075 to 97086\n",
      "country_counts: vn    59\n",
      "gl    62\n",
      "pk    63\n",
      "sz    63\n",
      "al    64\n",
      "Name: country, dtype: int64\n",
      "\n",
      "geocell_counts: 21     18\n",
      "253    53\n",
      "137    55\n",
      "68     56\n",
      "230    57\n",
      "Name: geocell, dtype: int64\n",
      "\n",
      "Cut from 97086 to 97068\n",
      "country_counts: vn    59\n",
      "gl    62\n",
      "pk    63\n",
      "sz    63\n",
      "al    64\n",
      "Name: country, dtype: int64\n",
      "\n",
      "geocell_counts: 253    53\n",
      "137    55\n",
      "68     56\n",
      "230    57\n",
      "189    62\n",
      "Name: geocell, dtype: int64\n",
      "\n",
      "Cut from 97068 to 97068\n"
     ]
    }
   ],
   "source": [
    "data_cut = cut_rec()"
   ]
  },
  {
   "cell_type": "code",
   "execution_count": null,
   "id": "hungarian-palestinian",
   "metadata": {},
   "outputs": [],
   "source": [
    "data_cut.to_csv(\"data.csv\")"
   ]
  },
  {
   "cell_type": "code",
   "execution_count": 57,
   "id": "specified-clothing",
   "metadata": {},
   "outputs": [],
   "source": [
    "def make_train_valid_test(idxs):\n",
    "    random.seed(47)\n",
    "    random.shuffle(idxs)\n",
    "    spl_tr_val = int(len(idxs) * 0.8)\n",
    "    spl_val_tst = int(len(idxs) * 0.9)\n",
    "    return idxs[:spl_tr_val], idxs[spl_tr_val:spl_val_tst], idxs[spl_val_tst:]"
   ]
  },
  {
   "cell_type": "code",
   "execution_count": 60,
   "id": "vital-course",
   "metadata": {},
   "outputs": [],
   "source": [
    "tr, vl, ts = make_train_valid_test(data_cut.index.tolist())"
   ]
  },
  {
   "cell_type": "code",
   "execution_count": 61,
   "id": "strong-reader",
   "metadata": {},
   "outputs": [
    {
     "data": {
      "text/plain": [
       "(77654, 9707, 9707)"
      ]
     },
     "execution_count": 61,
     "metadata": {},
     "output_type": "execute_result"
    }
   ],
   "source": [
    "len(tr), len(vl), len(ts)"
   ]
  },
  {
   "cell_type": "code",
   "execution_count": 67,
   "id": "aware-representation",
   "metadata": {},
   "outputs": [],
   "source": [
    "def make_data():\n",
    "    dset_idxs = {'train': tr, 'valid': vl, 'test': ts}\n",
    "    for dset, idxs in dset_idxs.items():\n",
    "        for idx in idxs:\n",
    "            shutil.copy(f\"all/{idx}.jpg\", f\"data/{dset}/{idx}.jpg\")\n",
    "\n",
    "# make_data()"
   ]
  }
 ],
 "metadata": {
  "kernelspec": {
   "display_name": "Python 3",
   "language": "python",
   "name": "python3"
  },
  "language_info": {
   "codemirror_mode": {
    "name": "ipython",
    "version": 3
   },
   "file_extension": ".py",
   "mimetype": "text/x-python",
   "name": "python",
   "nbconvert_exporter": "python",
   "pygments_lexer": "ipython3",
   "version": "3.7.4"
  }
 },
 "nbformat": 4,
 "nbformat_minor": 5
}
