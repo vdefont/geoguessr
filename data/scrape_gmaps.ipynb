{
 "cells": [
  {
   "cell_type": "code",
   "execution_count": 3,
   "id": "american-thriller",
   "metadata": {},
   "outputs": [
    {
     "name": "stdout",
     "output_type": "stream",
     "text": [
      "Requirement already satisfied: google_streetview in /Users/vdefont/miniconda3/lib/python3.7/site-packages (1.2.9)\n",
      "Requirement already satisfied: requests in /Users/vdefont/miniconda3/lib/python3.7/site-packages (from google_streetview) (2.22.0)\n",
      "Requirement already satisfied: kwconfig in /Users/vdefont/miniconda3/lib/python3.7/site-packages (from google_streetview) (1.1.7)\n",
      "Requirement already satisfied: idna<2.9,>=2.5 in /Users/vdefont/miniconda3/lib/python3.7/site-packages (from requests->google_streetview) (2.8)\n",
      "Requirement already satisfied: chardet<3.1.0,>=3.0.2 in /Users/vdefont/miniconda3/lib/python3.7/site-packages (from requests->google_streetview) (3.0.4)\n",
      "Requirement already satisfied: urllib3!=1.25.0,!=1.25.1,<1.26,>=1.21.1 in /Users/vdefont/miniconda3/lib/python3.7/site-packages (from requests->google_streetview) (1.25.8)\n",
      "Requirement already satisfied: certifi>=2017.4.17 in /Users/vdefont/miniconda3/lib/python3.7/site-packages (from requests->google_streetview) (2020.12.5)\n",
      "\u001b[33mWARNING: You are using pip version 21.0.1; however, version 21.1.1 is available.\n",
      "You should consider upgrading via the '/Users/vdefont/miniconda3/bin/python -m pip install --upgrade pip' command.\u001b[0m\n"
     ]
    }
   ],
   "source": [
    "!pip install google_streetview"
   ]
  },
  {
   "cell_type": "code",
   "execution_count": 4,
   "id": "other-enough",
   "metadata": {},
   "outputs": [],
   "source": [
    "import numpy as np\n",
    "import pandas as pd\n",
    "import torch\n",
    "import google_streetview.api\n",
    "import random\n",
    "from pathlib import Path\n",
    "import os\n",
    "import shutil\n",
    "from shutil import copyfile\n",
    "import re"
   ]
  },
  {
   "cell_type": "code",
   "execution_count": 9,
   "id": "inclusive-arabic",
   "metadata": {},
   "outputs": [],
   "source": [
    "data = pd.read_csv(\"data.csv\")"
   ]
  },
  {
   "cell_type": "code",
   "execution_count": null,
   "id": "dependent-rendering",
   "metadata": {},
   "outputs": [],
   "source": [
    "# NOTE: This script uses an intermediate directory \"scrape\", since the API likes\n",
    "# to scrape into an empty dir each time"
   ]
  },
  {
   "cell_type": "code",
   "execution_count": 15,
   "id": "middle-naples",
   "metadata": {},
   "outputs": [],
   "source": [
    "def get_img_paths(dest_dir, btm, top):\n",
    "    paths = [dest_dir/f\"gsv_{i}.jpg\" for i in range(top-btm)]\n",
    "    return [str(p) if p.exists() else None for p in paths]"
   ]
  },
  {
   "cell_type": "code",
   "execution_count": 16,
   "id": "agricultural-associate",
   "metadata": {},
   "outputs": [],
   "source": [
    "def scrape(btm, top):\n",
    "    dest_dir = Path(f\"scrape/{btm}_{top}\")\n",
    "    dest_dir.mkdir(exist_ok=False)\n",
    "\n",
    "    to_scrape = data.iloc[data.index[btm:top].tolist()]\n",
    "    print(\"to_scrape\")\n",
    "    print(to_scrape)\n",
    "\n",
    "    headings = [random.randint(0, 359) for _i in range(len(to_scrape))]\n",
    "    print(\"headings\")\n",
    "    print(headings)\n",
    "\n",
    "    params = [\n",
    "        {\n",
    "            'size': '1000x1000',\n",
    "            'location': f'{lat},{lng}',\n",
    "            'heading': str(heading),\n",
    "            'pitch': '0',\n",
    "            'fov': '105',\n",
    "            'key': '<KEY>',\n",
    "            'source': 'outdoor',\n",
    "        }\n",
    "        for lat, lng, heading in zip(to_scrape.lat, to_scrape.lng, headings)\n",
    "    ]\n",
    "    results = google_streetview.api.results(params)\n",
    "    print(\"GOT RESULTS\")\n",
    "    results.download_links(dest_dir)\n",
    "\n",
    "    metadata = pd.DataFrame({'index': to_scrape.index, 'id': to_scrape.id, 'heading': headings})\n",
    "    metadata.to_csv(f'scrape/metadata/{btm}_{top}')\n",
    "\n",
    "    for i, country, path in zip(to_scrape.index, to_scrape.country, get_img_paths(dest_dir, btm, top)):\n",
    "        if path is not None:\n",
    "            copyfile(path, f\"all/{i}.jpg\")"
   ]
  },
  {
   "cell_type": "code",
   "execution_count": 7,
   "id": "celtic-style",
   "metadata": {},
   "outputs": [],
   "source": [
    "def make_intervals(btm, top, step):\n",
    "    ret = list(zip(range(btm, top, step), range(btm+step, top+1, step)))\n",
    "    # Cover the remainder\n",
    "    if len(ret) > 0 and ret[-1][1] < top:\n",
    "        ret.append((ret[-1][1], top))\n",
    "    return ret"
   ]
  },
  {
   "cell_type": "code",
   "execution_count": 10,
   "id": "centered-saint",
   "metadata": {},
   "outputs": [],
   "source": [
    "intervals = make_intervals(0, len(data), 250)"
   ]
  },
  {
   "cell_type": "code",
   "execution_count": 19,
   "id": "forbidden-television",
   "metadata": {},
   "outputs": [
    {
     "name": "stdout",
     "output_type": "stream",
     "text": [
      "\n",
      "\n",
      "Scraping test from 4500 to 4750\n",
      "to_scrape\n",
      "                           id        lat        lng country  population  \\\n",
      "44931  nES_QGeOPBhEBQVT5bxfuw -10.476357 -36.439137      br    0.239216   \n",
      "44934  9ejYgyUwdV4Cb7SFyjiAUA  -9.910189 -47.993313      br    0.517647   \n",
      "44976  dsTaSTdzEbYCBY8myzCYOw -19.721605 -40.021538      br    0.215686   \n",
      "45006  SKe0TY4leVPdCITq9pcPGw  -0.627264 -47.361300      br    0.400000   \n",
      "45016  AmGWyH3SW8lp5YeqUy1zng -22.508894 -48.557888      br    0.388235   \n",
      "...                       ...        ...        ...     ...         ...   \n",
      "47373  ah_5VEUEiW_IiEGmhAqSFg  53.139490   7.035398      nl    0.392157   \n",
      "47377  oWNVcSivhSE-WhKxSk9XDQ  53.229954   6.572316      nl    0.603922   \n",
      "47378  X1mVQyw4x5c0gVmBf0TLMw  52.296590   5.237664      nl    0.600000   \n",
      "47410  2z0B6ubQ7zcdwwkSHwu12w  51.616116   4.746836      nl    0.600000   \n",
      "47422  -94tkQEcmv2AF9z5-K717g  50.866500   5.652889      nl    0.572549   \n",
      "\n",
      "      country_name  \n",
      "44931       Brazil  \n",
      "44934       Brazil  \n",
      "44976       Brazil  \n",
      "45006       Brazil  \n",
      "45016       Brazil  \n",
      "...            ...  \n",
      "47373  Netherlands  \n",
      "47377  Netherlands  \n",
      "47378  Netherlands  \n",
      "47410  Netherlands  \n",
      "47422  Netherlands  \n",
      "\n",
      "[250 rows x 6 columns]\n",
      "headings\n",
      "[314, 234, 326, 111, 302, 280, 79, 233, 291, 8, 174, 4, 42, 206, 117, 214, 285, 118, 228, 201, 4, 154, 210, 333, 124, 337, 237, 242, 157, 354, 12, 114, 207, 132, 64, 119, 91, 143, 345, 71, 338, 194, 102, 84, 81, 1, 27, 66, 69, 49, 274, 231, 127, 196, 315, 153, 65, 265, 9, 291, 328, 43, 15, 183, 304, 245, 353, 190, 259, 149, 75, 273, 181, 316, 120, 196, 331, 293, 17, 7, 359, 6, 264, 265, 24, 160, 154, 266, 32, 265, 328, 120, 353, 209, 132, 74, 145, 40, 208, 234, 2, 0, 108, 240, 351, 244, 94, 179, 22, 268, 334, 111, 248, 334, 123, 351, 95, 358, 262, 62, 48, 289, 166, 155, 226, 155, 204, 0, 126, 73, 65, 280, 154, 237, 144, 242, 77, 65, 311, 115, 140, 266, 32, 151, 37, 251, 332, 137, 239, 103, 54, 64, 280, 29, 242, 237, 316, 178, 268, 98, 168, 325, 1, 167, 303, 164, 356, 64, 127, 195, 50, 230, 0, 226, 193, 106, 180, 42, 86, 167, 183, 156, 166, 9, 205, 226, 344, 74, 207, 359, 213, 316, 218, 205, 288, 326, 147, 72, 239, 12, 324, 4, 359, 330, 301, 18, 231, 207, 322, 165, 68, 143, 136, 89, 249, 108, 15, 239, 186, 116, 183, 224, 162, 33, 177, 254, 350, 137, 331, 246, 61, 32, 263, 174, 212, 24, 39, 177, 320, 55, 193, 327, 81, 131, 341, 100, 303, 259, 149, 78]\n",
      "GOT RESULTS\n",
      "CPU times: user 10.4 s, sys: 1.18 s, total: 11.5 s\n",
      "Wall time: 6min 5s\n",
      "\n",
      "\n",
      "Scraping test from 4750 to 5000\n",
      "to_scrape\n",
      "                           id        lat         lng country  population  \\\n",
      "47424  53-HeYRyeBMbj19fTY6deQ  52.346363    4.925153      nl    0.670588   \n",
      "47461  wo2nNkoknGY3h9x2b0zHfQ  53.316970    6.010824      nl    0.196078   \n",
      "47465  2WrW_7LCnQ9VEjz9JGYM7A  51.885060    5.294120      nl    0.603922   \n",
      "47467  vBUiVzgyoeObDrGyBcqFjw  52.156000    4.492899      nl    0.682353   \n",
      "47484  AMkm_Yot4bILp3q1mYgU0Q  52.657310    6.728860      nl    0.596078   \n",
      "...                       ...        ...         ...     ...         ...   \n",
      "50060  0BrP5uMHmQ0NAHLa4EV9jA -37.863000  144.647860      au    0.592157   \n",
      "50067  MfejdRUNWScpKTk0ZEcHEA -27.625110  152.885740      au    0.521569   \n",
      "50070  JfHNk9Uk7rMsTwdoSQ6pLA -29.819128  146.953370      au    0.000000   \n",
      "50086  LjJWCXYpGe7W3WxvzfSNCQ -27.472002  153.041980      au    0.611765   \n",
      "50090  bJEET4PxrX7qncM9VvaTmA -22.972288  133.849900      au    0.098039   \n",
      "\n",
      "      country_name  \n",
      "47424  Netherlands  \n",
      "47461  Netherlands  \n",
      "47465  Netherlands  \n",
      "47467  Netherlands  \n",
      "47484  Netherlands  \n",
      "...            ...  \n",
      "50060    Australia  \n",
      "50067    Australia  \n",
      "50070    Australia  \n",
      "50086    Australia  \n",
      "50090    Australia  \n",
      "\n",
      "[250 rows x 6 columns]\n",
      "headings\n",
      "[76, 113, 150, 218, 344, 175, 120, 261, 151, 111, 139, 314, 214, 83, 306, 215, 66, 112, 151, 129, 340, 259, 61, 16, 130, 4, 177, 212, 287, 303, 202, 141, 77, 83, 275, 75, 64, 173, 16, 145, 24, 7, 35, 323, 17, 47, 139, 165, 203, 86, 325, 298, 283, 24, 248, 144, 252, 344, 151, 191, 333, 94, 281, 4, 217, 337, 340, 334, 35, 205, 117, 41, 37, 218, 75, 139, 91, 12, 267, 36, 163, 100, 272, 338, 280, 24, 325, 241, 76, 228, 305, 291, 102, 114, 219, 112, 280, 353, 357, 122, 274, 259, 264, 217, 159, 15, 224, 351, 322, 267, 264, 147, 249, 55, 117, 356, 87, 149, 182, 69, 91, 78, 348, 44, 14, 62, 269, 238, 264, 209, 93, 31, 343, 243, 198, 356, 272, 173, 204, 109, 229, 206, 239, 124, 188, 149, 276, 325, 81, 0, 93, 208, 237, 32, 42, 125, 223, 236, 275, 91, 256, 97, 47, 134, 64, 172, 98, 260, 170, 57, 41, 63, 88, 319, 281, 294, 193, 299, 114, 24, 266, 292, 134, 357, 334, 114, 266, 299, 118, 313, 212, 231, 358, 337, 211, 190, 190, 66, 23, 24, 116, 300, 309, 158, 342, 209, 265, 278, 112, 57, 55, 154, 110, 43, 32, 319, 265, 21, 57, 144, 156, 285, 164, 6, 2, 210, 111, 255, 98, 338, 130, 76, 59, 54, 352, 288, 265, 7, 100, 92, 190, 35, 125, 271, 48, 78, 346, 173, 72, 58]\n",
      "GOT RESULTS\n",
      "CPU times: user 10.6 s, sys: 1.18 s, total: 11.8 s\n",
      "Wall time: 5min 51s\n"
     ]
    }
   ],
   "source": [
    "curset = \"train\"\n",
    "for btm, top in intervals:\n",
    "    print(f\"\\n\\nScraping {curset} from {btm} to {top}\")\n",
    "    %time scrape(curset, btm, top)"
   ]
  }
 ],
 "metadata": {
  "kernelspec": {
   "display_name": "Python 3",
   "language": "python",
   "name": "python3"
  },
  "language_info": {
   "codemirror_mode": {
    "name": "ipython",
    "version": 3
   },
   "file_extension": ".py",
   "mimetype": "text/x-python",
   "name": "python",
   "nbconvert_exporter": "python",
   "pygments_lexer": "ipython3",
   "version": "3.7.9"
  }
 },
 "nbformat": 4,
 "nbformat_minor": 5
}
