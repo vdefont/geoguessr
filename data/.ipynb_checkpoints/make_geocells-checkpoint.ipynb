{
 "cells": [
  {
   "cell_type": "code",
   "execution_count": 1,
   "id": "governmental-poverty",
   "metadata": {},
   "outputs": [],
   "source": [
    "import numpy as np\n",
    "import pandas as pd\n",
    "from typing import NamedTuple, Iterable, List, Mapping, Dict, Optional, Set\n",
    "import random\n",
    "import matplotlib.pyplot as plt\n",
    "import plotly.express as px"
   ]
  },
  {
   "cell_type": "code",
   "execution_count": 45,
   "id": "faced-headquarters",
   "metadata": {},
   "outputs": [],
   "source": [
    "data = pd.read_csv(\"data.csv\") # Data without geocell col"
   ]
  },
  {
   "cell_type": "code",
   "execution_count": 3,
   "id": "welcome-remainder",
   "metadata": {},
   "outputs": [],
   "source": [
    "class Point(NamedTuple):\n",
    "    idx: int\n",
    "    lat: float\n",
    "    lng: float"
   ]
  },
  {
   "cell_type": "code",
   "execution_count": 4,
   "id": "yellow-blowing",
   "metadata": {},
   "outputs": [],
   "source": [
    "class Cell:\n",
    "    def __init__(self, points: Set[Point]):\n",
    "        self.points = points\n",
    "        if len(self.points) == 0:\n",
    "            return\n",
    "        self.min_lat = min(points, key=lambda p: p.lat).lat\n",
    "        self.max_lat = max(points, key=lambda p: p.lat).lat\n",
    "        self.min_lng = min(points, key=lambda p: p.lng).lng\n",
    "        self.max_lng = max(points, key=lambda p: p.lng).lng\n",
    "        \n",
    "        self.med_lat_lng = self._med_lat_lng()\n",
    "    \n",
    "    def _med_lat_lng(self):\n",
    "        mid = len(self) // 2\n",
    "        lat = sorted(self.points, key=lambda p: p.lat)[mid].lat\n",
    "        lng = sorted(self.points, key=lambda p: p.lng)[mid].lng\n",
    "        return lat, lng\n",
    "    \n",
    "    def split(self):\n",
    "        split_on_lat = self._should_split_on_lat()\n",
    "        frac = 0.5 + np.random.normal(scale=0.05) # slightly random split\n",
    "        p1, p2 = set(), set()\n",
    "        if split_on_lat:\n",
    "            thresh = (self.max_lat + self.min_lat) / 2\n",
    "            for p in self.points:\n",
    "                if p.lat < thresh: p1.add(p)\n",
    "                else: p2.add(p)\n",
    "        else:\n",
    "            thresh = (self.max_lng + self.min_lng) / 2\n",
    "            for p in self.points:\n",
    "                if p.lng < thresh: p1.add(p)\n",
    "                else: p2.add(p)\n",
    "        return [Cell(p1), Cell(p2)]\n",
    "    \n",
    "    def _should_split_on_lat(self):\n",
    "        # True = split lat, False = split_lng\n",
    "        lat_range = self.max_lat - self.min_lat\n",
    "        lng_range = self.max_lng - self.min_lng\n",
    "        if lat_range > lng_range:\n",
    "            return True\n",
    "        if lng_range > lat_range:\n",
    "            return False\n",
    "        return random.choice([True, False])\n",
    "\n",
    "    def __len__(self):\n",
    "        return len(self.points)\n",
    "    \n",
    "    def __str__(self):\n",
    "        if len(self) == 0:\n",
    "            return \"Empty!\"\n",
    "        return (\n",
    "            f\"Length: {len(self)}\"\n",
    "            f\"\\nLat range: {self.min_lat:.3f} to {self.max_lat:.3f}\"\n",
    "            f\"\\nLng range: {self.min_lng:.3f} to {self.max_lng:.3f}\"\n",
    "            f\"\\nMedian point: {self.med_lat_lng}\"\n",
    "        )"
   ]
  },
  {
   "cell_type": "code",
   "execution_count": 5,
   "id": "hispanic-college",
   "metadata": {},
   "outputs": [],
   "source": [
    "points = [\n",
    "    Point(i, lat, lng) \n",
    "    for i, (lat, lng) in enumerate(zip(data.lat, data.lng))\n",
    "]"
   ]
  },
  {
   "cell_type": "code",
   "execution_count": 12,
   "id": "little-vampire",
   "metadata": {},
   "outputs": [],
   "source": [
    "MAX_CELL_SIZE = 600\n",
    "\n",
    "def get_cells():\n",
    "    random.seed(3)\n",
    "    np.random.seed(3)\n",
    "    final_cells = []\n",
    "    large_cells = [Cell(points)]\n",
    "    while len(large_cells) > 0:\n",
    "        new_large_cells = []\n",
    "        for cell in large_cells:\n",
    "            if len(cell) < MAX_CELL_SIZE:\n",
    "                if len(cell) > 0: final_cells.append(cell)\n",
    "                continue\n",
    "            new_large_cells += cell.split()\n",
    "        large_cells = new_large_cells\n",
    "        \n",
    "     # Remove small cells\n",
    "#     final_cells = [c for c in final_cells if len(c) >= 50]\n",
    "    \n",
    "    return final_cells"
   ]
  },
  {
   "cell_type": "code",
   "execution_count": 13,
   "id": "major-directory",
   "metadata": {},
   "outputs": [
    {
     "data": {
      "text/plain": [
       "289"
      ]
     },
     "execution_count": 13,
     "metadata": {},
     "output_type": "execute_result"
    }
   ],
   "source": [
    "cells = get_cells()\n",
    "len(cells)"
   ]
  },
  {
   "cell_type": "code",
   "execution_count": 14,
   "id": "developing-minute",
   "metadata": {},
   "outputs": [],
   "source": [
    "median_lats, median_lngs = zip(*[c.med_lat_lng for c in cells])\n",
    "cell_centers = pd.DataFrame({'lat': median_lats, 'lng': median_lngs})\n",
    "cell_centers.to_csv(\"geocell_centers.csv\")"
   ]
  },
  {
   "cell_type": "code",
   "execution_count": 15,
   "id": "adjustable-silicon",
   "metadata": {},
   "outputs": [
    {
     "data": {
      "text/plain": [
       "339.7750865051903"
      ]
     },
     "execution_count": 15,
     "metadata": {},
     "output_type": "execute_result"
    }
   ],
   "source": [
    "lens = np.array(list(map(len, cells)))\n",
    "lens.mean()"
   ]
  },
  {
   "cell_type": "code",
   "execution_count": 16,
   "id": "direct-subscription",
   "metadata": {},
   "outputs": [
    {
     "data": {
      "image/png": "[encoded data removed]",
      "text/plain": [
       "<Figure size 432x288 with 1 Axes>"
      ]
     },
     "metadata": {
      "needs_background": "light"
     },
     "output_type": "display_data"
    }
   ],
   "source": [
    "plt.hist(lens, bins=50)\n",
    "plt.show()"
   ]
  },
  {
   "cell_type": "code",
   "execution_count": 21,
   "id": "progressive-pride",
   "metadata": {},
   "outputs": [],
   "source": [
    "def get_data_with_cats(data):\n",
    "    cats = [-1] * len(data)\n",
    "    for i, cell in enumerate(cells):\n",
    "        for p in cell.points:\n",
    "            cats[p.idx] = i\n",
    "    data_cats = data.copy()\n",
    "    data_cats['geocell'] = cats\n",
    "    points_to_keep = [i for i, c in enumerate(cats) if c != -1]\n",
    "    data_cats = data_cats.iloc[points_to_keep]\n",
    "    return data_cats"
   ]
  },
  {
   "cell_type": "code",
   "execution_count": 43,
   "id": "surprising-receptor",
   "metadata": {},
   "outputs": [
    {
     "data": {
      "text/html": [
       "<div>\n",
       "<style scoped>\n",
       "    .dataframe tbody tr th:only-of-type {\n",
       "        vertical-align: middle;\n",
       "    }\n",
       "\n",
       "    .dataframe tbody tr th {\n",
       "        vertical-align: top;\n",
       "    }\n",
       "\n",
       "    .dataframe thead th {\n",
       "        text-align: right;\n",
       "    }\n",
       "</style>\n",
       "<table border=\"1\" class=\"dataframe\">\n",
       "  <thead>\n",
       "    <tr style=\"text-align: right;\">\n",
       "      <th></th>\n",
       "      <th>id</th>\n",
       "      <th>lat</th>\n",
       "      <th>lng</th>\n",
       "      <th>country</th>\n",
       "      <th>population</th>\n",
       "      <th>country_name</th>\n",
       "      <th>geocell</th>\n",
       "    </tr>\n",
       "  </thead>\n",
       "  <tbody>\n",
       "    <tr>\n",
       "      <th>0</th>\n",
       "      <td>ltbLypZTB0b54YldBhcrYQ</td>\n",
       "      <td>61.772846</td>\n",
       "      <td>-149.934780</td>\n",
       "      <td>us</td>\n",
       "      <td>0.101961</td>\n",
       "      <td>United States</td>\n",
       "      <td>10</td>\n",
       "    </tr>\n",
       "    <tr>\n",
       "      <th>1</th>\n",
       "      <td>4YLg9of3KX6wKna1hD-Bqw</td>\n",
       "      <td>42.829094</td>\n",
       "      <td>-71.781700</td>\n",
       "      <td>us</td>\n",
       "      <td>0.231373</td>\n",
       "      <td>United States</td>\n",
       "      <td>188</td>\n",
       "    </tr>\n",
       "    <tr>\n",
       "      <th>2</th>\n",
       "      <td>VmQWOJCj9lgSQnAbCgH_bA</td>\n",
       "      <td>36.138850</td>\n",
       "      <td>-95.990140</td>\n",
       "      <td>us</td>\n",
       "      <td>0.529412</td>\n",
       "      <td>United States</td>\n",
       "      <td>132</td>\n",
       "    </tr>\n",
       "    <tr>\n",
       "      <th>3</th>\n",
       "      <td>FEUW8CKZo3HdyW-O4SJSow</td>\n",
       "      <td>35.028843</td>\n",
       "      <td>-89.817060</td>\n",
       "      <td>us</td>\n",
       "      <td>0.603922</td>\n",
       "      <td>United States</td>\n",
       "      <td>133</td>\n",
       "    </tr>\n",
       "    <tr>\n",
       "      <th>4</th>\n",
       "      <td>jW-3dsHVWPvaxA7g-VNW5Q</td>\n",
       "      <td>27.803684</td>\n",
       "      <td>-82.696300</td>\n",
       "      <td>us</td>\n",
       "      <td>0.596078</td>\n",
       "      <td>United States</td>\n",
       "      <td>175</td>\n",
       "    </tr>\n",
       "    <tr>\n",
       "      <th>...</th>\n",
       "      <td>...</td>\n",
       "      <td>...</td>\n",
       "      <td>...</td>\n",
       "      <td>...</td>\n",
       "      <td>...</td>\n",
       "      <td>...</td>\n",
       "      <td>...</td>\n",
       "    </tr>\n",
       "    <tr>\n",
       "      <th>98190</th>\n",
       "      <td>0onMmsM68d2yoNh0nT4KBQ</td>\n",
       "      <td>-10.451388</td>\n",
       "      <td>105.687870</td>\n",
       "      <td>cx</td>\n",
       "      <td>0.000000</td>\n",
       "      <td>Christmas Island</td>\n",
       "      <td>5</td>\n",
       "    </tr>\n",
       "    <tr>\n",
       "      <th>98191</th>\n",
       "      <td>ub8BJrU_f48a3geF6nADPQ</td>\n",
       "      <td>-12.202913</td>\n",
       "      <td>96.854420</td>\n",
       "      <td>cc</td>\n",
       "      <td>0.000000</td>\n",
       "      <td>Cocos (Keeling) Islands</td>\n",
       "      <td>5</td>\n",
       "    </tr>\n",
       "    <tr>\n",
       "      <th>98192</th>\n",
       "      <td>O8-O_PYu4ldZI1Jy1-kGvA</td>\n",
       "      <td>-12.119981</td>\n",
       "      <td>96.901720</td>\n",
       "      <td>cc</td>\n",
       "      <td>0.000000</td>\n",
       "      <td>Cocos (Keeling) Islands</td>\n",
       "      <td>5</td>\n",
       "    </tr>\n",
       "    <tr>\n",
       "      <th>98193</th>\n",
       "      <td>X3vXLrZ1aIboULvoC9ndJA</td>\n",
       "      <td>-12.112849</td>\n",
       "      <td>96.892130</td>\n",
       "      <td>cc</td>\n",
       "      <td>0.000000</td>\n",
       "      <td>Cocos (Keeling) Islands</td>\n",
       "      <td>5</td>\n",
       "    </tr>\n",
       "    <tr>\n",
       "      <th>98194</th>\n",
       "      <td>xdrCBeKOUgPGfW3Y5UKhHA</td>\n",
       "      <td>-22.109165</td>\n",
       "      <td>-56.519306</td>\n",
       "      <td>py</td>\n",
       "      <td>0.235294</td>\n",
       "      <td>Paraguay</td>\n",
       "      <td>57</td>\n",
       "    </tr>\n",
       "  </tbody>\n",
       "</table>\n",
       "<p>98195 rows × 7 columns</p>\n",
       "</div>"
      ],
      "text/plain": [
       "                           id        lat         lng country  population  \\\n",
       "0      ltbLypZTB0b54YldBhcrYQ  61.772846 -149.934780      us    0.101961   \n",
       "1      4YLg9of3KX6wKna1hD-Bqw  42.829094  -71.781700      us    0.231373   \n",
       "2      VmQWOJCj9lgSQnAbCgH_bA  36.138850  -95.990140      us    0.529412   \n",
       "3      FEUW8CKZo3HdyW-O4SJSow  35.028843  -89.817060      us    0.603922   \n",
       "4      jW-3dsHVWPvaxA7g-VNW5Q  27.803684  -82.696300      us    0.596078   \n",
       "...                       ...        ...         ...     ...         ...   \n",
       "98190  0onMmsM68d2yoNh0nT4KBQ -10.451388  105.687870      cx    0.000000   \n",
       "98191  ub8BJrU_f48a3geF6nADPQ -12.202913   96.854420      cc    0.000000   \n",
       "98192  O8-O_PYu4ldZI1Jy1-kGvA -12.119981   96.901720      cc    0.000000   \n",
       "98193  X3vXLrZ1aIboULvoC9ndJA -12.112849   96.892130      cc    0.000000   \n",
       "98194  xdrCBeKOUgPGfW3Y5UKhHA -22.109165  -56.519306      py    0.235294   \n",
       "\n",
       "                  country_name  geocell  \n",
       "0                United States       10  \n",
       "1                United States      188  \n",
       "2                United States      132  \n",
       "3                United States      133  \n",
       "4                United States      175  \n",
       "...                        ...      ...  \n",
       "98190         Christmas Island        5  \n",
       "98191  Cocos (Keeling) Islands        5  \n",
       "98192  Cocos (Keeling) Islands        5  \n",
       "98193  Cocos (Keeling) Islands        5  \n",
       "98194                 Paraguay       57  \n",
       "\n",
       "[98195 rows x 7 columns]"
      ]
     },
     "execution_count": 43,
     "metadata": {},
     "output_type": "execute_result"
    }
   ],
   "source": [
    "data_cats = get_data_with_cats(data)\n",
    "data_cats.to_csv(\"data.csv\")\n",
    "data_cats = pd.read_csv(\"data.csv\", index_col=0)\n",
    "data_cats"
   ]
  },
  {
   "cell_type": "code",
   "execution_count": 23,
   "id": "serial-valley",
   "metadata": {},
   "outputs": [],
   "source": [
    "## VISUALIZE ##"
   ]
  },
  {
   "cell_type": "code",
   "execution_count": 37,
   "id": "distributed-buying",
   "metadata": {},
   "outputs": [],
   "source": [
    "def show_cats(data):\n",
    "    data = data.copy()\n",
    "    cats = data.geocell.unique()\n",
    "    random.shuffle(cats)\n",
    "    cat2idx = {c: i for i, c in enumerate(cats)}\n",
    "    data.geocell = [cat2idx[c] for c in data.geocell]\n",
    "    fig = px.scatter_mapbox(\n",
    "        data,\n",
    "        lat=\"lat\",\n",
    "        lon=\"lng\",\n",
    "        color=\"geocell\",\n",
    "        color_continuous_scale=px.colors.qualitative.Alphabet,\n",
    "    )\n",
    "    fig.update_layout(mapbox_style=\"open-street-map\")\n",
    "    fig.update_layout(coloraxis_showscale=False)\n",
    "    fig.show()\n",
    "    plt.pause(0.001)"
   ]
  },
  {
   "cell_type": "code",
   "execution_count": 38,
   "id": "martial-australian",
   "metadata": {},
   "outputs": [],
   "source": [
    "def show_country(country):\n",
    "    show_cats(data_cats[data_cats.country == country])"
   ]
  },
  {
   "cell_type": "code",
   "execution_count": 1,
   "id": "southern-variety",
   "metadata": {},
   "outputs": [],
   "source": [
    "def show_us():\n",
    "    random.seed(6)\n",
    "    show_country('us')\n",
    "    \n",
    "show_us()"
   ]
  },
  {
   "cell_type": "code",
   "execution_count": 2,
   "id": "informal-norway",
   "metadata": {},
   "outputs": [],
   "source": [
    "def show_fr():\n",
    "    random.seed(0)\n",
    "    show_country(\"fr\")\n",
    "\n",
    "show_fr()"
   ]
  },
  {
   "cell_type": "code",
   "execution_count": 3,
   "id": "enormous-generation",
   "metadata": {
    "scrolled": true
   },
   "outputs": [],
   "source": [
    "def show_great_britain():\n",
    "    random.seed(1)\n",
    "    show_country('gb')\n",
    "\n",
    "show_great_britain()"
   ]
  },
  {
   "cell_type": "code",
   "execution_count": 4,
   "id": "violent-colonial",
   "metadata": {},
   "outputs": [],
   "source": [
    "def show_world():\n",
    "    random.seed(0)\n",
    "    show_cats(data_cats)\n",
    "\n",
    "show_world()"
   ]
  },
  {
   "cell_type": "code",
   "execution_count": null,
   "id": "cooked-trick",
   "metadata": {},
   "outputs": [],
   "source": []
  }
 ],
 "metadata": {
  "kernelspec": {
   "display_name": "Python 3",
   "language": "python",
   "name": "python3"
  },
  "language_info": {
   "codemirror_mode": {
    "name": "ipython",
    "version": 3
   },
   "file_extension": ".py",
   "mimetype": "text/x-python",
   "name": "python",
   "nbconvert_exporter": "python",
   "pygments_lexer": "ipython3",
   "version": "3.7.9"
  }
 },
 "nbformat": 4,
 "nbformat_minor": 5
}
