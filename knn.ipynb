{
 "cells": [
  {
   "cell_type": "code",
   "execution_count": 1,
   "id": "broken-cross",
   "metadata": {},
   "outputs": [],
   "source": [
    "# !pip install faiss\n",
    "# !pip install haversine"
   ]
  },
  {
   "cell_type": "code",
   "execution_count": 2,
   "id": "considerable-attribute",
   "metadata": {},
   "outputs": [],
   "source": [
    "import numpy as np\n",
    "import pandas as pd\n",
    "from pathlib import Path\n",
    "import faiss\n",
    "import torch\n",
    "import torch.nn.functional as F\n",
    "from torch import tensor\n",
    "from sklearn.preprocessing import StandardScaler, Normalizer\n",
    "from scipy.sparse import csc_matrix\n",
    "from copy import deepcopy\n",
    "import time\n",
    "from scipy.ndimage import gaussian_filter\n",
    "from scipy.sparse import csr_matrix\n",
    "from multiprocessing import Pool\n",
    "import plotly.express as px\n",
    "import matplotlib.pyplot as plt\n",
    "from haversine import haversine_vector\n",
    "import random\n",
    "from functools import partial"
   ]
  },
  {
   "cell_type": "code",
   "execution_count": 3,
   "id": "patient-insurance",
   "metadata": {},
   "outputs": [],
   "source": [
    "import pickle \n",
    "\n",
    "def pkl_save(path, obj):\n",
    "  with open(path, 'wb') as file:\n",
    "    pickle.dump(obj, file)\n",
    "\n",
    "def pkl_load(path):\n",
    "  with open(path, 'rb') as file:\n",
    "    return pickle.load(file)"
   ]
  },
  {
   "cell_type": "code",
   "execution_count": 4,
   "id": "pleasant-motivation",
   "metadata": {},
   "outputs": [],
   "source": [
    "def calc_threshs(errs):\n",
    "    for thresh in [1, 25, 200, 750, 2500]:\n",
    "        frac = (errs < thresh).mean()\n",
    "        print(f\"{thresh}:\\t{frac:.5f}\")\n",
    "    return (errs < 200).mean()"
   ]
  },
  {
   "cell_type": "code",
   "execution_count": 5,
   "id": "worth-outreach",
   "metadata": {},
   "outputs": [],
   "source": [
    "root_dir = Path('.')"
   ]
  },
  {
   "cell_type": "code",
   "execution_count": 9,
   "id": "further-boost",
   "metadata": {},
   "outputs": [
    {
     "data": {
      "text/plain": [
       "(torch.Size([97068, 87]), torch.Size([97068, 275]), torch.Size([97068, 50]))"
      ]
     },
     "execution_count": 9,
     "metadata": {},
     "output_type": "execute_result"
    }
   ],
   "source": [
    "data = pd.read_csv(root_dir/\"data.csv\")\n",
    "logits_country = pkl_load(root_dir/\"logits_country\")\n",
    "logits_geocell = pkl_load(root_dir/\"logits_geocell\")\n",
    "logits_us = pkl_load(root_dir/'logits_us')\n",
    "logits_country.shape, logits_geocell.shape, logits_us.shape"
   ]
  },
  {
   "cell_type": "code",
   "execution_count": 10,
   "id": "adaptive-search",
   "metadata": {},
   "outputs": [
    {
     "data": {
      "text/plain": [
       "((97068, 412), (97068, 2))"
      ]
     },
     "execution_count": 10,
     "metadata": {},
     "output_type": "execute_result"
    }
   ],
   "source": [
    "X = torch.cat([logits_country, logits_geocell, logits_us], 1).numpy()\n",
    "y = np.array(data[[\"lat\", \"lng\"]])\n",
    "X.shape, y.shape"
   ]
  },
  {
   "cell_type": "code",
   "execution_count": 11,
   "id": "legal-cattle",
   "metadata": {},
   "outputs": [
    {
     "data": {
      "text/plain": [
       "(77654, 9707, 9707)"
      ]
     },
     "execution_count": 11,
     "metadata": {},
     "output_type": "execute_result"
    }
   ],
   "source": [
    "tr_idx = data.index[data['set'] == 'train'].tolist()\n",
    "vl_idx = data.index[data['set'] == 'valid'].tolist()\n",
    "ts_idx = data.index[data['set'] == 'test'].tolist()\n",
    "len(tr_idx), len(vl_idx), len(ts_idx)"
   ]
  },
  {
   "cell_type": "code",
   "execution_count": 12,
   "id": "loose-custody",
   "metadata": {},
   "outputs": [],
   "source": [
    "X_tr, X_vl, X_ts = X[tr_idx], X[vl_idx], X[ts_idx]\n",
    "y_tr, y_vl, y_ts = y[tr_idx], y[vl_idx], y[ts_idx]"
   ]
  },
  {
   "cell_type": "code",
   "execution_count": 10,
   "id": "parallel-malpractice",
   "metadata": {},
   "outputs": [],
   "source": [
    "class FaissNeighbors:\n",
    "    def __init__(self, k=5):\n",
    "        self.index=None\n",
    "        self.y=None\n",
    "        self.k=k\n",
    "    \n",
    "    def fit(self, X):\n",
    "        self.index = faiss.IndexFlatL2(X.shape[1])\n",
    "        self.index.add(X.astype(np.float32))\n",
    "    \n",
    "    def predict(self, X):\n",
    "        # returns (distances, indices)\n",
    "        return self.index.search(X.astype(np.float32), k=self.k)"
   ]
  },
  {
   "cell_type": "code",
   "execution_count": 11,
   "id": "promising-wallace",
   "metadata": {},
   "outputs": [],
   "source": [
    "from typing import NamedTuple"
   ]
  },
  {
   "cell_type": "code",
   "execution_count": 12,
   "id": "demographic-venue",
   "metadata": {},
   "outputs": [],
   "source": [
    "class Weights(NamedTuple):\n",
    "    COUNTRY: float\n",
    "    GEOCELL: float\n",
    "    US: float"
   ]
  },
  {
   "cell_type": "code",
   "execution_count": 13,
   "id": "acknowledged-hampshire",
   "metadata": {},
   "outputs": [],
   "source": [
    "class Config(NamedTuple):\n",
    "    K: int\n",
    "    M: int\n",
    "    SIGMA: int\n",
    "    SCALE: int\n",
    "    TRUNCATE: int\n",
    "    US_THRESH: float\n",
    "    WEIGHTS_WORLD: Weights\n",
    "    WEIGHTS_US: Weights"
   ]
  },
  {
   "cell_type": "code",
   "execution_count": 14,
   "id": "sought-integral",
   "metadata": {},
   "outputs": [],
   "source": [
    "def get_base_filter(config):\n",
    "    half_width = int(config.TRUNCATE*config.SIGMA*config.SCALE)\n",
    "    zs = np.zeros([2*half_width+1]*2)\n",
    "    zs[half_width,half_width]=1\n",
    "    return gaussian_filter(zs, sigma=config.SIGMA*config.SCALE, truncate=config.TRUNCATE)"
   ]
  },
  {
   "cell_type": "code",
   "execution_count": 15,
   "id": "engaged-monday",
   "metadata": {},
   "outputs": [],
   "source": [
    "def make_filter(config, main, base_filter, lat_lng, weight):        \n",
    "    lat, lng = lat_lng\n",
    "    # Rescale starting at zero\n",
    "    lat += 90.0\n",
    "    lng += 180.0\n",
    "    # Get x and y indices\n",
    "    lat_idx = round(lat*config.SCALE)\n",
    "    lng_idx = round(lng*config.SCALE)\n",
    "    # Make filter\n",
    "    data = base_filter.copy() * weight\n",
    "    \n",
    "    # Put filter into sparse array of the same shape as \"main\"\n",
    "    \n",
    "    # b = \"big\", s = \"small\", c = \"center\"\n",
    "    hb, wb = main.shape\n",
    "    hs, ws = data.shape\n",
    "    hc, wc = lat_idx, lng_idx\n",
    "    \n",
    "    # Get row and col indices\n",
    "    row, col = np.meshgrid(range(hs), range(ws))\n",
    "    row = row.T.flatten()\n",
    "    col = col.T.flatten()\n",
    "\n",
    "    # Re-center them\n",
    "    row = row - hs // 2 + hc\n",
    "    col = col - ws // 2 + wc\n",
    "    \n",
    "    # Remove out-of-bounds indices\n",
    "    df = pd.DataFrame({'row': row, 'col': col, 'data': data.flatten()})\n",
    "    df = df[(df.row >= 0) & (df.col >= 0) & (df.row < hb) & (df.col < wb)]\n",
    "    \n",
    "    # Return sparse matrix\n",
    "    row, col, data = df.row.tolist(), df.col.tolist(), df.data.tolist()\n",
    "    return csr_matrix((data, (row, col)), shape=main.shape)"
   ]
  },
  {
   "cell_type": "code",
   "execution_count": 16,
   "id": "adaptive-method",
   "metadata": {},
   "outputs": [],
   "source": [
    "def get_best_lat_lng(config, filts):\n",
    "    lat_idx_max = filts.max(1).argmax()\n",
    "    lng_idx_max = filts.max(0).argmax()\n",
    "    lat_max = (lat_idx_max/config.SCALE) - 90\n",
    "    lng_max = (lng_idx_max/config.SCALE) - 180\n",
    "    return lat_max, lng_max"
   ]
  },
  {
   "cell_type": "code",
   "execution_count": 17,
   "id": "confidential-victorian",
   "metadata": {},
   "outputs": [],
   "source": [
    "def _get_best_lat_lng(config, MAIN, BASE_FILTER, args):\n",
    "    neighbor_locs, neighbor_weights = args\n",
    "    main = deepcopy(MAIN)\n",
    "    rows = []\n",
    "    for lat_lng, weight in zip(neighbor_locs, neighbor_weights):\n",
    "        main += make_filter(config=config, main=main, base_filter=BASE_FILTER, lat_lng=lat_lng, weight=weight)\n",
    "    return get_best_lat_lng(config, main)\n",
    "\n",
    "def predict(config, MAIN, BASE_FILTER, indices, weights, top=None):\n",
    "    neighbor_locs_ls = y_tr[indices] # (num_valid, K, 2)\n",
    "    args_ls = list(zip(neighbor_locs_ls, weights))\n",
    "    if top is not None: # Used for testing\n",
    "        args_ls = args_ls[:top]\n",
    "    \n",
    "    pool = Pool()\n",
    "    fn = partial(_get_best_lat_lng, config, MAIN, BASE_FILTER)\n",
    "    best_lat_lngs = pool.map(fn, args_ls)\n",
    "    \n",
    "    return np.array(best_lat_lngs)"
   ]
  },
  {
   "cell_type": "code",
   "execution_count": 18,
   "id": "metropolitan-contents",
   "metadata": {},
   "outputs": [],
   "source": [
    "def weight_x(weights, X):\n",
    "    wc = np.ones(87) * weights.COUNTRY\n",
    "    wg = np.ones(275) * weights.GEOCELL\n",
    "    wu = np.ones(50) * weights.US\n",
    "    w = np.concatenate([wc, wg, wu])\n",
    "    return X * w"
   ]
  },
  {
   "cell_type": "code",
   "execution_count": 19,
   "id": "complex-shirt",
   "metadata": {},
   "outputs": [],
   "source": [
    "def get_is_us(config, X):\n",
    "    country_logits = X[:,:87]\n",
    "    country_exp = np.exp(country_logits)\n",
    "    country_probs = country_exp / country_exp.sum(1, keepdims=True)\n",
    "    us_probs = country_probs[:,83]\n",
    "    return us_probs > config.US_THRESH"
   ]
  },
  {
   "cell_type": "code",
   "execution_count": 20,
   "id": "coated-husband",
   "metadata": {},
   "outputs": [],
   "source": [
    "def combine(cond, x_t, x_f):\n",
    "    t = np.where(cond)[0]\n",
    "    f = np.where(~cond)[0]\n",
    "    idxs = np.concatenate([t, f])\n",
    "    reorder = [t[0] for t in sorted(enumerate(idxs), key=lambda t: t[1])]\n",
    "    return np.concatenate([x_t,x_f], 0)[reorder]"
   ]
  },
  {
   "cell_type": "code",
   "execution_count": 21,
   "id": "owned-softball",
   "metadata": {},
   "outputs": [],
   "source": [
    "def run_experiment(config):\n",
    "    print(config)\n",
    "    \n",
    "    is_us_vl = get_is_us(config, X_vl)\n",
    "    \n",
    "    def predict_best_lat_lngs(weights, cond):\n",
    "        # Re-weight both train and valid data\n",
    "        X_tr_ = weight_x(weights, X_tr)\n",
    "        X_vl_ = weight_x(weights, X_vl)[cond]\n",
    "        \n",
    "        fn = FaissNeighbors(k=config.K)\n",
    "        fn.fit(X_tr_) \n",
    "        distances, indices = fn.predict(X_vl_)\n",
    "\n",
    "        weights = (1/distances)**config.M\n",
    "        weights /= weights.sum(1, keepdims=True)\n",
    "\n",
    "        MAIN = csr_matrix((180*config.SCALE, 360*config.SCALE))\n",
    "        BASE_FILTER = get_base_filter(config)\n",
    "\n",
    "        return predict(config, MAIN, BASE_FILTER, indices, weights)\n",
    "\n",
    "    best_lat_lngs_us = predict_best_lat_lngs(config.WEIGHTS_US, is_us_vl)\n",
    "    best_lat_lngs_world = predict_best_lat_lngs(config.WEIGHTS_WORLD, ~is_us_vl)\n",
    "    best_lat_lngs = combine(is_us_vl, best_lat_lngs_us, best_lat_lngs_world)\n",
    "\n",
    "    # See the accuracy\n",
    "    actual = y_vl\n",
    "    errs = haversine_vector(best_lat_lngs, actual)\n",
    "    return calc_threshs(errs)"
   ]
  },
  {
   "cell_type": "code",
   "execution_count": 22,
   "id": "eastern-parking",
   "metadata": {},
   "outputs": [],
   "source": [
    "### COMPARING VALUES OF SIGMA ###"
   ]
  },
  {
   "cell_type": "code",
   "execution_count": 23,
   "id": "seventh-cologne",
   "metadata": {},
   "outputs": [],
   "source": [
    "# BEFORE NIGHT RUN:\n",
    "# - Ensure SCALE = 60"
   ]
  },
  {
   "cell_type": "code",
   "execution_count": 24,
   "id": "subjective-excerpt",
   "metadata": {},
   "outputs": [],
   "source": [
    "def get_config(sigma):\n",
    "    return Config(\n",
    "        K = 20,\n",
    "        M = 5,\n",
    "        SIGMA = sigma,\n",
    "        SCALE = 60,  # FINAL: 100\n",
    "        TRUNCATE = 2,\n",
    "        US_THRESH = 0.9,\n",
    "        WEIGHTS_WORLD = Weights(COUNTRY=1., GEOCELL=1., US=0.),\n",
    "        WEIGHTS_US = Weights(COUNTRY=1., GEOCELL=0.9, US=1.1),\n",
    "    )"
   ]
  },
  {
   "cell_type": "code",
   "execution_count": 25,
   "id": "numeric-actress",
   "metadata": {},
   "outputs": [
    {
     "name": "stdout",
     "output_type": "stream",
     "text": [
      "Config(K=20, M=5, SIGMA=1, SCALE=60, TRUNCATE=2, US_THRESH=0.9, WEIGHTS_WORLD=Weights(COUNTRY=1.0, GEOCELL=1.0, US=0.0), WEIGHTS_US=Weights(COUNTRY=1.0, GEOCELL=0.9, US=1.1))\n",
      "1:\t0.00587\n",
      "25:\t0.09354\n",
      "200:\t0.35830\n",
      "750:\t0.69177\n",
      "2500:\t0.87061\n"
     ]
    },
    {
     "data": {
      "text/plain": [
       "0.35829813536623056"
      ]
     },
     "execution_count": 25,
     "metadata": {},
     "output_type": "execute_result"
    }
   ],
   "source": [
    "run_experiment(get_config(1))"
   ]
  },
  {
   "cell_type": "code",
   "execution_count": null,
   "id": "mature-scanner",
   "metadata": {},
   "outputs": [
    {
     "name": "stdout",
     "output_type": "stream",
     "text": [
      "Config(K=20, M=5, SIGMA=8, SCALE=60, TRUNCATE=2, US_THRESH=0.9, WEIGHTS_WORLD=Weights(COUNTRY=1.0, GEOCELL=1.0, US=0.0), WEIGHTS_US=Weights(COUNTRY=1.0, GEOCELL=0.9, US=1.1))\n"
     ]
    }
   ],
   "source": [
    "run_experiment(get_config(8))"
   ]
  },
  {
   "cell_type": "code",
   "execution_count": null,
   "id": "racial-dominant",
   "metadata": {},
   "outputs": [],
   "source": [
    "run_experiment(get_config(16))"
   ]
  },
  {
   "cell_type": "code",
   "execution_count": null,
   "id": "labeled-silver",
   "metadata": {},
   "outputs": [],
   "source": [
    "run_experiment(get_config(0.5))"
   ]
  },
  {
   "cell_type": "code",
   "execution_count": null,
   "id": "finnish-weekend",
   "metadata": {},
   "outputs": [],
   "source": []
  },
  {
   "cell_type": "code",
   "execution_count": null,
   "id": "incoming-process",
   "metadata": {},
   "outputs": [],
   "source": [
    "### FINDING BEST WORLD + US WEIGHTS ###"
   ]
  },
  {
   "cell_type": "code",
   "execution_count": null,
   "id": "private-resort",
   "metadata": {},
   "outputs": [],
   "source": [
    "def get_config(weights_world, weights_us):\n",
    "    return Config(\n",
    "        K = 20, # 20 FINAL\n",
    "        M = 5,\n",
    "        SIGMA = 4,\n",
    "        SCALE = 10, # 10 FINAL\n",
    "        TRUNCATE = 2,\n",
    "        US_THRESH = 0.9,\n",
    "        WEIGHTS_WORLD = weights_world,\n",
    "        WEIGHTS_US = weights_us,\n",
    "    )"
   ]
  },
  {
   "cell_type": "code",
   "execution_count": 24,
   "id": "negative-sleeve",
   "metadata": {},
   "outputs": [],
   "source": [
    "# BEFORE NIGHT RUN:\n",
    "# - Ensure config vals are FINAL\n",
    "# - Ensure step val is FINAL"
   ]
  },
  {
   "cell_type": "code",
   "execution_count": 25,
   "id": "aboriginal-numbers",
   "metadata": {},
   "outputs": [],
   "source": [
    "STEP = 0.1 # 0.1 FINAL"
   ]
  },
  {
   "cell_type": "code",
   "execution_count": 26,
   "id": "greek-federation",
   "metadata": {},
   "outputs": [
    {
     "name": "stdout",
     "output_type": "stream",
     "text": [
      "Config(K=20, M=5, SIGMA=4, SCALE=10, TRUNCATE=2, US_THRESH=0.9, WEIGHTS_WORLD=Weights(COUNTRY=0, GEOCELL=0, US=0), WEIGHTS_US=Weights(COUNTRY=1, GEOCELL=0.0, US=0.0))\n",
      "1:\t0.00000\n",
      "25:\t0.00787\n",
      "200:\t0.14492\n",
      "750:\t0.53180\n",
      "2500:\t0.88787\n",
      "Config(K=20, M=5, SIGMA=4, SCALE=10, TRUNCATE=2, US_THRESH=0.9, WEIGHTS_WORLD=Weights(COUNTRY=0, GEOCELL=0, US=0), WEIGHTS_US=Weights(COUNTRY=1, GEOCELL=0.1, US=0.0))\n",
      "1:\t0.00000\n",
      "25:\t0.00721\n",
      "200:\t0.15934\n",
      "750:\t0.55672\n",
      "2500:\t0.89967\n",
      "Config(K=20, M=5, SIGMA=4, SCALE=10, TRUNCATE=2, US_THRESH=0.9, WEIGHTS_WORLD=Weights(COUNTRY=0, GEOCELL=0, US=0), WEIGHTS_US=Weights(COUNTRY=1, GEOCELL=0.2, US=0.0))\n",
      "1:\t0.00000\n",
      "25:\t0.00852\n",
      "200:\t0.19279\n",
      "750:\t0.61902\n",
      "2500:\t0.91803\n",
      "Config(K=20, M=5, SIGMA=4, SCALE=10, TRUNCATE=2, US_THRESH=0.9, WEIGHTS_WORLD=Weights(COUNTRY=0, GEOCELL=0, US=0), WEIGHTS_US=Weights(COUNTRY=1, GEOCELL=0.30000000000000004, US=0.0))\n",
      "1:\t0.00000\n",
      "25:\t0.01508\n",
      "200:\t0.23344\n",
      "750:\t0.68066\n",
      "2500:\t0.92787\n",
      "Config(K=20, M=5, SIGMA=4, SCALE=10, TRUNCATE=2, US_THRESH=0.9, WEIGHTS_WORLD=Weights(COUNTRY=0, GEOCELL=0, US=0), WEIGHTS_US=Weights(COUNTRY=1, GEOCELL=0.4, US=0.0))\n",
      "1:\t0.00000\n",
      "25:\t0.01639\n",
      "200:\t0.26426\n",
      "750:\t0.72131\n",
      "2500:\t0.93967\n",
      "Config(K=20, M=5, SIGMA=4, SCALE=10, TRUNCATE=2, US_THRESH=0.9, WEIGHTS_WORLD=Weights(COUNTRY=0, GEOCELL=0, US=0), WEIGHTS_US=Weights(COUNTRY=1, GEOCELL=0.5, US=0.0))\n",
      "1:\t0.00000\n",
      "25:\t0.01770\n",
      "200:\t0.28459\n",
      "750:\t0.72984\n",
      "2500:\t0.94361\n",
      "Config(K=20, M=5, SIGMA=4, SCALE=10, TRUNCATE=2, US_THRESH=0.9, WEIGHTS_WORLD=Weights(COUNTRY=0, GEOCELL=0, US=0), WEIGHTS_US=Weights(COUNTRY=1, GEOCELL=0.6, US=0.0))\n",
      "1:\t0.00000\n",
      "25:\t0.01967\n",
      "200:\t0.29902\n",
      "750:\t0.74754\n",
      "2500:\t0.94885\n",
      "Config(K=20, M=5, SIGMA=4, SCALE=10, TRUNCATE=2, US_THRESH=0.9, WEIGHTS_WORLD=Weights(COUNTRY=0, GEOCELL=0, US=0), WEIGHTS_US=Weights(COUNTRY=1, GEOCELL=0.7, US=0.0))\n",
      "1:\t0.00000\n",
      "25:\t0.01967\n",
      "200:\t0.30557\n",
      "750:\t0.74951\n",
      "2500:\t0.94492\n",
      "Config(K=20, M=5, SIGMA=4, SCALE=10, TRUNCATE=2, US_THRESH=0.9, WEIGHTS_WORLD=Weights(COUNTRY=0, GEOCELL=0, US=0), WEIGHTS_US=Weights(COUNTRY=1, GEOCELL=0.7999999999999999, US=0.0))\n",
      "1:\t0.00066\n",
      "25:\t0.02164\n",
      "200:\t0.31082\n",
      "750:\t0.74951\n",
      "2500:\t0.94557\n",
      "Config(K=20, M=5, SIGMA=4, SCALE=10, TRUNCATE=2, US_THRESH=0.9, WEIGHTS_WORLD=Weights(COUNTRY=0, GEOCELL=0, US=0), WEIGHTS_US=Weights(COUNTRY=1, GEOCELL=0.8999999999999999, US=0.0))\n",
      "1:\t0.00066\n",
      "25:\t0.02230\n",
      "200:\t0.31672\n",
      "750:\t0.75541\n",
      "2500:\t0.94426\n",
      "Config(K=20, M=5, SIGMA=4, SCALE=10, TRUNCATE=2, US_THRESH=0.9, WEIGHTS_WORLD=Weights(COUNTRY=0, GEOCELL=0, US=0), WEIGHTS_US=Weights(COUNTRY=1, GEOCELL=0.9999999999999999, US=0.0))\n",
      "1:\t0.00066\n",
      "25:\t0.02230\n",
      "200:\t0.31541\n",
      "750:\t0.75541\n",
      "2500:\t0.94492\n",
      "BEST GC: 0.8999999999999999 => 0.31672131147540983\n"
     ]
    }
   ],
   "source": [
    "best_gc_val = 0. - STEP\n",
    "best_gc_score = 0.\n",
    "while True:\n",
    "    gc_val = best_gc_val + STEP\n",
    "    c = get_config(\n",
    "        weights_world=Weights(0,0,0),\n",
    "        weights_us=Weights(COUNTRY=1, GEOCELL=gc_val, US=0.),\n",
    "    )\n",
    "    gc_score = run_experiment(c)\n",
    "    if gc_score < best_gc_score:\n",
    "        break\n",
    "    best_gc_val = gc_val\n",
    "    best_gc_score = gc_score\n",
    "\n",
    "print(\"BEST GC:\", best_gc_val, \"=>\", best_gc_score)"
   ]
  },
  {
   "cell_type": "code",
   "execution_count": 27,
   "id": "composite-dream",
   "metadata": {},
   "outputs": [
    {
     "name": "stdout",
     "output_type": "stream",
     "text": [
      "Config(K=20, M=5, SIGMA=4, SCALE=10, TRUNCATE=2, US_THRESH=0.9, WEIGHTS_WORLD=Weights(COUNTRY=0, GEOCELL=0, US=0), WEIGHTS_US=Weights(COUNTRY=1, GEOCELL=0.8999999999999999, US=0.0))\n",
      "1:\t0.00066\n",
      "25:\t0.02230\n",
      "200:\t0.31672\n",
      "750:\t0.75541\n",
      "2500:\t0.94426\n",
      "Config(K=20, M=5, SIGMA=4, SCALE=10, TRUNCATE=2, US_THRESH=0.9, WEIGHTS_WORLD=Weights(COUNTRY=0, GEOCELL=0, US=0), WEIGHTS_US=Weights(COUNTRY=1, GEOCELL=0.8999999999999999, US=0.1))\n",
      "1:\t0.00066\n",
      "25:\t0.02098\n",
      "200:\t0.31869\n",
      "750:\t0.75803\n",
      "2500:\t0.94426\n",
      "Config(K=20, M=5, SIGMA=4, SCALE=10, TRUNCATE=2, US_THRESH=0.9, WEIGHTS_WORLD=Weights(COUNTRY=0, GEOCELL=0, US=0), WEIGHTS_US=Weights(COUNTRY=1, GEOCELL=0.8999999999999999, US=0.2))\n",
      "1:\t0.00066\n",
      "25:\t0.02230\n",
      "200:\t0.32066\n",
      "750:\t0.76000\n",
      "2500:\t0.94557\n",
      "Config(K=20, M=5, SIGMA=4, SCALE=10, TRUNCATE=2, US_THRESH=0.9, WEIGHTS_WORLD=Weights(COUNTRY=0, GEOCELL=0, US=0), WEIGHTS_US=Weights(COUNTRY=1, GEOCELL=0.8999999999999999, US=0.30000000000000004))\n",
      "1:\t0.00066\n",
      "25:\t0.02361\n",
      "200:\t0.32721\n",
      "750:\t0.76459\n",
      "2500:\t0.94754\n",
      "Config(K=20, M=5, SIGMA=4, SCALE=10, TRUNCATE=2, US_THRESH=0.9, WEIGHTS_WORLD=Weights(COUNTRY=0, GEOCELL=0, US=0), WEIGHTS_US=Weights(COUNTRY=1, GEOCELL=0.8999999999999999, US=0.4))\n",
      "1:\t0.00000\n",
      "25:\t0.01967\n",
      "200:\t0.33836\n",
      "750:\t0.77508\n",
      "2500:\t0.95016\n",
      "Config(K=20, M=5, SIGMA=4, SCALE=10, TRUNCATE=2, US_THRESH=0.9, WEIGHTS_WORLD=Weights(COUNTRY=0, GEOCELL=0, US=0), WEIGHTS_US=Weights(COUNTRY=1, GEOCELL=0.8999999999999999, US=0.5))\n",
      "1:\t0.00066\n",
      "25:\t0.02623\n",
      "200:\t0.35344\n",
      "750:\t0.78426\n",
      "2500:\t0.95213\n",
      "Config(K=20, M=5, SIGMA=4, SCALE=10, TRUNCATE=2, US_THRESH=0.9, WEIGHTS_WORLD=Weights(COUNTRY=0, GEOCELL=0, US=0), WEIGHTS_US=Weights(COUNTRY=1, GEOCELL=0.8999999999999999, US=0.6))\n",
      "1:\t0.00066\n",
      "25:\t0.02689\n",
      "200:\t0.36328\n",
      "750:\t0.79213\n",
      "2500:\t0.95279\n",
      "Config(K=20, M=5, SIGMA=4, SCALE=10, TRUNCATE=2, US_THRESH=0.9, WEIGHTS_WORLD=Weights(COUNTRY=0, GEOCELL=0, US=0), WEIGHTS_US=Weights(COUNTRY=1, GEOCELL=0.8999999999999999, US=0.7))\n",
      "1:\t0.00066\n",
      "25:\t0.02951\n",
      "200:\t0.37180\n",
      "750:\t0.79934\n",
      "2500:\t0.95279\n",
      "Config(K=20, M=5, SIGMA=4, SCALE=10, TRUNCATE=2, US_THRESH=0.9, WEIGHTS_WORLD=Weights(COUNTRY=0, GEOCELL=0, US=0), WEIGHTS_US=Weights(COUNTRY=1, GEOCELL=0.8999999999999999, US=0.7999999999999999))\n",
      "1:\t0.00000\n",
      "25:\t0.03016\n",
      "200:\t0.37639\n",
      "750:\t0.80525\n",
      "2500:\t0.95213\n",
      "Config(K=20, M=5, SIGMA=4, SCALE=10, TRUNCATE=2, US_THRESH=0.9, WEIGHTS_WORLD=Weights(COUNTRY=0, GEOCELL=0, US=0), WEIGHTS_US=Weights(COUNTRY=1, GEOCELL=0.8999999999999999, US=0.8999999999999999))\n",
      "1:\t0.00000\n",
      "25:\t0.02951\n",
      "200:\t0.38492\n",
      "750:\t0.80459\n",
      "2500:\t0.95279\n",
      "Config(K=20, M=5, SIGMA=4, SCALE=10, TRUNCATE=2, US_THRESH=0.9, WEIGHTS_WORLD=Weights(COUNTRY=0, GEOCELL=0, US=0), WEIGHTS_US=Weights(COUNTRY=1, GEOCELL=0.8999999999999999, US=0.9999999999999999))\n",
      "1:\t0.00000\n",
      "25:\t0.02885\n",
      "200:\t0.38754\n",
      "750:\t0.80984\n",
      "2500:\t0.95344\n",
      "Config(K=20, M=5, SIGMA=4, SCALE=10, TRUNCATE=2, US_THRESH=0.9, WEIGHTS_WORLD=Weights(COUNTRY=0, GEOCELL=0, US=0), WEIGHTS_US=Weights(COUNTRY=1, GEOCELL=0.8999999999999999, US=1.0999999999999999))\n",
      "1:\t0.00000\n",
      "25:\t0.02689\n",
      "200:\t0.39016\n",
      "750:\t0.81443\n",
      "2500:\t0.95410\n",
      "Config(K=20, M=5, SIGMA=4, SCALE=10, TRUNCATE=2, US_THRESH=0.9, WEIGHTS_WORLD=Weights(COUNTRY=0, GEOCELL=0, US=0), WEIGHTS_US=Weights(COUNTRY=1, GEOCELL=0.8999999999999999, US=1.2))\n",
      "1:\t0.00000\n",
      "25:\t0.02820\n",
      "200:\t0.38951\n",
      "750:\t0.81508\n",
      "2500:\t0.95475\n",
      "BEST US: 1.0999999999999999 => 0.3901639344262295\n"
     ]
    }
   ],
   "source": [
    "best_us_val = 0. - STEP\n",
    "best_us_score = 0.\n",
    "while True:\n",
    "    us_val = best_us_val + STEP\n",
    "    c = get_config(\n",
    "        weights_world=Weights(0,0,0),\n",
    "        weights_us=Weights(COUNTRY=1, GEOCELL=best_gc_val, US=us_val),\n",
    "    )\n",
    "    us_score = run_experiment(c)\n",
    "    if us_score < best_us_score:\n",
    "        break\n",
    "    best_us_val = us_val\n",
    "    best_us_score = us_score\n",
    "\n",
    "print(\"BEST US:\", best_us_val, \"=>\", best_us_score)"
   ]
  },
  {
   "cell_type": "code",
   "execution_count": null,
   "id": "thermal-commerce",
   "metadata": {},
   "outputs": [],
   "source": []
  },
  {
   "cell_type": "code",
   "execution_count": null,
   "id": "civic-oxford",
   "metadata": {},
   "outputs": [],
   "source": []
  },
  {
   "cell_type": "code",
   "execution_count": 24,
   "id": "neural-grove",
   "metadata": {},
   "outputs": [],
   "source": [
    "plt.rcParams.update({'font.size': 10})"
   ]
  },
  {
   "cell_type": "code",
   "execution_count": 32,
   "id": "brave-lover",
   "metadata": {},
   "outputs": [
    {
     "data": {
      "image/png": "[encoded data removed]",
      "text/plain": [
       "<Figure size 288x144 with 1 Axes>"
      ]
     },
     "metadata": {
      "needs_background": "light"
     },
     "output_type": "display_data"
    }
   ],
   "source": [
    "country_logits = X_vl[:,:87]\n",
    "country_exp = np.exp(country_logits)\n",
    "country_probs = country_exp / country_exp.sum(1, keepdims=True)\n",
    "us_probs = country_probs[:,83]\n",
    "\n",
    "plt.figure(figsize=(4,2))\n",
    "plt.hist(country_probs[:,83], bins=50)\n",
    "plt.xticks(np.arange(0,1.01, 0.1))\n",
    "plt.title('Confidence for Country = \"United States\" (Validation Set)', fontsize=10)\n",
    "plt.xlabel(\"Confidence\")\n",
    "plt.ylabel(\"Number of Examples\")\n",
    "plt.show()\n",
    "# 0.9 looks like a pretty good thresh for US probs"
   ]
  },
  {
   "cell_type": "code",
   "execution_count": null,
   "id": "similar-cutting",
   "metadata": {},
   "outputs": [],
   "source": []
  }
 ],
 "metadata": {
  "kernelspec": {
   "display_name": "Python 3",
   "language": "python",
   "name": "python3"
  },
  "language_info": {
   "codemirror_mode": {
    "name": "ipython",
    "version": 3
   },
   "file_extension": ".py",
   "mimetype": "text/x-python",
   "name": "python",
   "nbconvert_exporter": "python",
   "pygments_lexer": "ipython3",
   "version": "3.7.9"
  }
 },
 "nbformat": 4,
 "nbformat_minor": 5
}
